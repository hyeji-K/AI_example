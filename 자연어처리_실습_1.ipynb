{
  "nbformat": 4,
  "nbformat_minor": 0,
  "metadata": {
    "colab": {
      "provenance": [],
      "authorship_tag": "ABX9TyOWa7GRo+mLh4JMwds7L263",
      "include_colab_link": true
    },
    "kernelspec": {
      "name": "python3",
      "display_name": "Python 3"
    },
    "language_info": {
      "name": "python"
    }
  },
  "cells": [
    {
      "cell_type": "markdown",
      "metadata": {
        "id": "view-in-github",
        "colab_type": "text"
      },
      "source": [
        "<a href=\"https://colab.research.google.com/github/hyeji-K/AI_example/blob/main/%EC%9E%90%EC%97%B0%EC%96%B4%EC%B2%98%EB%A6%AC_%EC%8B%A4%EC%8A%B5_1.ipynb\" target=\"_parent\"><img src=\"https://colab.research.google.com/assets/colab-badge.svg\" alt=\"Open In Colab\"/></a>"
      ]
    },
    {
      "cell_type": "code",
      "source": [
        "!pip install konlpy"
      ],
      "metadata": {
        "colab": {
          "base_uri": "https://localhost:8080/"
        },
        "id": "QIOie-6CWBkb",
        "outputId": "733aa467-ef21-4b93-8067-d140671932a8"
      },
      "execution_count": 2,
      "outputs": [
        {
          "output_type": "stream",
          "name": "stdout",
          "text": [
            "Collecting konlpy\n",
            "  Downloading konlpy-0.6.0-py2.py3-none-any.whl.metadata (1.9 kB)\n",
            "Collecting JPype1>=0.7.0 (from konlpy)\n",
            "  Downloading JPype1-1.5.0-cp310-cp310-manylinux_2_17_x86_64.manylinux2014_x86_64.whl.metadata (4.9 kB)\n",
            "Requirement already satisfied: lxml>=4.1.0 in /usr/local/lib/python3.10/dist-packages (from konlpy) (4.9.4)\n",
            "Requirement already satisfied: numpy>=1.6 in /usr/local/lib/python3.10/dist-packages (from konlpy) (1.26.4)\n",
            "Requirement already satisfied: packaging in /usr/local/lib/python3.10/dist-packages (from JPype1>=0.7.0->konlpy) (24.1)\n",
            "Downloading konlpy-0.6.0-py2.py3-none-any.whl (19.4 MB)\n",
            "\u001b[2K   \u001b[90m━━━━━━━━━━━━━━━━━━━━━━━━━━━━━━━━━━━━━━━━\u001b[0m \u001b[32m19.4/19.4 MB\u001b[0m \u001b[31m70.3 MB/s\u001b[0m eta \u001b[36m0:00:00\u001b[0m\n",
            "\u001b[?25hDownloading JPype1-1.5.0-cp310-cp310-manylinux_2_17_x86_64.manylinux2014_x86_64.whl (488 kB)\n",
            "\u001b[2K   \u001b[90m━━━━━━━━━━━━━━━━━━━━━━━━━━━━━━━━━━━━━━━━\u001b[0m \u001b[32m488.6/488.6 kB\u001b[0m \u001b[31m28.9 MB/s\u001b[0m eta \u001b[36m0:00:00\u001b[0m\n",
            "\u001b[?25hInstalling collected packages: JPype1, konlpy\n",
            "Successfully installed JPype1-1.5.0 konlpy-0.6.0\n"
          ]
        }
      ]
    },
    {
      "cell_type": "code",
      "execution_count": 4,
      "metadata": {
        "id": "qUF4f2E3V2kY"
      },
      "outputs": [],
      "source": [
        "from konlpy.tag import Okt"
      ]
    },
    {
      "cell_type": "code",
      "source": [
        "okt = Okt()"
      ],
      "metadata": {
        "id": "owYW2OyxWLNm"
      },
      "execution_count": 5,
      "outputs": []
    },
    {
      "cell_type": "code",
      "source": [
        "text = \"나는 오늘 맛있는 삼겹살을 먹었습니다.\""
      ],
      "metadata": {
        "id": "aOay_eXRWT3V"
      },
      "execution_count": 6,
      "outputs": []
    },
    {
      "cell_type": "code",
      "source": [
        "print(\"morphs() 결과: \")\n",
        "print(okt.morphs(text))"
      ],
      "metadata": {
        "colab": {
          "base_uri": "https://localhost:8080/"
        },
        "id": "3uPWvPtHWXpy",
        "outputId": "bb13b46d-07fd-4cd7-85ae-c7b2d3c7d458"
      },
      "execution_count": 7,
      "outputs": [
        {
          "output_type": "stream",
          "name": "stdout",
          "text": [
            "morphs() 결과: \n",
            "['나', '는', '오늘', '맛있는', '삼겹살', '을', '먹었습니다', '.']\n"
          ]
        }
      ]
    },
    {
      "cell_type": "code",
      "source": [
        "print(okt.nouns(text))"
      ],
      "metadata": {
        "colab": {
          "base_uri": "https://localhost:8080/"
        },
        "id": "Lc-WHocmWuc6",
        "outputId": "dbf303a1-f05a-49fd-8b71-802491195281"
      },
      "execution_count": 8,
      "outputs": [
        {
          "output_type": "stream",
          "name": "stdout",
          "text": [
            "['나', '오늘', '삼겹살']\n"
          ]
        }
      ]
    },
    {
      "cell_type": "code",
      "source": [
        "print(okt.phrases(text))"
      ],
      "metadata": {
        "colab": {
          "base_uri": "https://localhost:8080/"
        },
        "id": "C5UwHTAfW_T1",
        "outputId": "8a5e5cd1-540f-44f1-c270-366d593bac5f"
      },
      "execution_count": 10,
      "outputs": [
        {
          "output_type": "stream",
          "name": "stdout",
          "text": [
            "['오늘', '오늘 맛있는 삼겹살', '삼겹살']\n"
          ]
        }
      ]
    },
    {
      "cell_type": "code",
      "source": [
        "print(okt.pos(text))"
      ],
      "metadata": {
        "colab": {
          "base_uri": "https://localhost:8080/"
        },
        "id": "pzc33rYRXNO7",
        "outputId": "095b76ff-a112-4a24-c6de-bc02612f5d2b"
      },
      "execution_count": 11,
      "outputs": [
        {
          "output_type": "stream",
          "name": "stdout",
          "text": [
            "[('나', 'Noun'), ('는', 'Josa'), ('오늘', 'Noun'), ('맛있는', 'Adjective'), ('삼겹살', 'Noun'), ('을', 'Josa'), ('먹었습니다', 'Verb'), ('.', 'Punctuation')]\n"
          ]
        }
      ]
    },
    {
      "cell_type": "code",
      "source": [
        "print(okt.pos(text, join=True))"
      ],
      "metadata": {
        "colab": {
          "base_uri": "https://localhost:8080/"
        },
        "id": "R2YaOWGoXXeB",
        "outputId": "d44d986a-8c6c-4be9-bb38-d786a10e4f2f"
      },
      "execution_count": 13,
      "outputs": [
        {
          "output_type": "stream",
          "name": "stdout",
          "text": [
            "['나/Noun', '는/Josa', '오늘/Noun', '맛있는/Adjective', '삼겹살/Noun', '을/Josa', '먹었습니다/Verb', './Punctuation']\n"
          ]
        }
      ]
    },
    {
      "cell_type": "code",
      "source": [
        "# 단어토큰화 / 문장토큰화\n",
        "word_tokens = okt.morphs(\"오늘 나는 기분이 좋다!\")\n",
        "print(word_tokens)"
      ],
      "metadata": {
        "colab": {
          "base_uri": "https://localhost:8080/"
        },
        "id": "oSyfH7pMXhvi",
        "outputId": "19650ba1-9329-430a-9c53-1fd7a0ccc94d"
      },
      "execution_count": 14,
      "outputs": [
        {
          "output_type": "stream",
          "name": "stdout",
          "text": [
            "['오늘', '나', '는', '기분', '이', '좋다', '!']\n"
          ]
        }
      ]
    },
    {
      "cell_type": "code",
      "source": [
        "from nltk.tokenize import sent_tokenize\n",
        "import nltk"
      ],
      "metadata": {
        "id": "8tRBoRLaXycO"
      },
      "execution_count": 17,
      "outputs": []
    },
    {
      "cell_type": "code",
      "source": [
        "nltk.download('punkt')"
      ],
      "metadata": {
        "colab": {
          "base_uri": "https://localhost:8080/"
        },
        "id": "l-G-sFH8YdhT",
        "outputId": "b432606f-0e74-4c6e-decf-4f679cdb5b1d"
      },
      "execution_count": 18,
      "outputs": [
        {
          "output_type": "stream",
          "name": "stderr",
          "text": [
            "[nltk_data] Downloading package punkt to /root/nltk_data...\n",
            "[nltk_data]   Unzipping tokenizers/punkt.zip.\n"
          ]
        },
        {
          "output_type": "execute_result",
          "data": {
            "text/plain": [
              "True"
            ]
          },
          "metadata": {},
          "execution_count": 18
        }
      ]
    },
    {
      "cell_type": "code",
      "source": [
        "sentence = \"오늘 나는 기분이 좋다! 내일도 기분이 좋았으면 좋겠다.\""
      ],
      "metadata": {
        "id": "xmgWc8sXX4Bk"
      },
      "execution_count": 16,
      "outputs": []
    },
    {
      "cell_type": "code",
      "source": [
        "sentences = sent_tokenize(sentence)"
      ],
      "metadata": {
        "id": "5cU8XSTnX9p8"
      },
      "execution_count": 19,
      "outputs": []
    },
    {
      "cell_type": "code",
      "source": [
        "sentences"
      ],
      "metadata": {
        "colab": {
          "base_uri": "https://localhost:8080/"
        },
        "id": "bkJccz4PYJlh",
        "outputId": "df7adbd9-7de3-4a97-e72e-80cb9d2dbaa4"
      },
      "execution_count": 20,
      "outputs": [
        {
          "output_type": "execute_result",
          "data": {
            "text/plain": [
              "['오늘 나는 기분이 좋다!', '내일도 기분이 좋았으면 좋겠다.']"
            ]
          },
          "metadata": {},
          "execution_count": 20
        }
      ]
    },
    {
      "cell_type": "code",
      "source": [
        "text = \"Today's class is Fun!\""
      ],
      "metadata": {
        "id": "rMuR2q2DYjYM"
      },
      "execution_count": 21,
      "outputs": []
    },
    {
      "cell_type": "code",
      "source": [
        "new_text = text.lower()"
      ],
      "metadata": {
        "id": "bPAhrvmAcJGj"
      },
      "execution_count": 22,
      "outputs": []
    },
    {
      "cell_type": "code",
      "source": [
        "new_text"
      ],
      "metadata": {
        "colab": {
          "base_uri": "https://localhost:8080/",
          "height": 36
        },
        "id": "XwntMY8jcNjQ",
        "outputId": "e8558bb8-5f7a-4f37-805c-6aec8a8013d2"
      },
      "execution_count": 23,
      "outputs": [
        {
          "output_type": "execute_result",
          "data": {
            "text/plain": [
              "\"today's class is fun!\""
            ],
            "application/vnd.google.colaboratory.intrinsic+json": {
              "type": "string"
            }
          },
          "metadata": {},
          "execution_count": 23
        }
      ]
    },
    {
      "cell_type": "code",
      "source": [
        "new_text = text.upper()"
      ],
      "metadata": {
        "id": "W6uJf9nyclD7"
      },
      "execution_count": 24,
      "outputs": []
    },
    {
      "cell_type": "code",
      "source": [
        "new_text"
      ],
      "metadata": {
        "colab": {
          "base_uri": "https://localhost:8080/",
          "height": 36
        },
        "id": "z4IK3wkfcn7G",
        "outputId": "96e77561-2bde-46f1-97c2-cefd6c27ab9a"
      },
      "execution_count": 25,
      "outputs": [
        {
          "output_type": "execute_result",
          "data": {
            "text/plain": [
              "\"TODAY'S CLASS IS FUN!\""
            ],
            "application/vnd.google.colaboratory.intrinsic+json": {
              "type": "string"
            }
          },
          "metadata": {},
          "execution_count": 25
        }
      ]
    },
    {
      "cell_type": "code",
      "source": [
        "new_text = text.title()"
      ],
      "metadata": {
        "id": "II-XPuJbcptd"
      },
      "execution_count": 26,
      "outputs": []
    },
    {
      "cell_type": "code",
      "source": [
        "new_text"
      ],
      "metadata": {
        "colab": {
          "base_uri": "https://localhost:8080/",
          "height": 36
        },
        "id": "hxwlHkItcs6n",
        "outputId": "c68991d7-e036-4c10-c181-dc10a5204039"
      },
      "execution_count": 27,
      "outputs": [
        {
          "output_type": "execute_result",
          "data": {
            "text/plain": [
              "\"Today'S Class Is Fun!\""
            ],
            "application/vnd.google.colaboratory.intrinsic+json": {
              "type": "string"
            }
          },
          "metadata": {},
          "execution_count": 27
        }
      ]
    },
    {
      "cell_type": "code",
      "source": [
        "# 정규표현식\n",
        "import re"
      ],
      "metadata": {
        "id": "z2q-YVZYcuzM"
      },
      "execution_count": 28,
      "outputs": []
    },
    {
      "cell_type": "code",
      "source": [
        "text = \"오늘 자연어처리 수업 재밌다..!\""
      ],
      "metadata": {
        "id": "wkL77gk4cxeF"
      },
      "execution_count": 29,
      "outputs": []
    },
    {
      "cell_type": "code",
      "source": [
        "text_re = re.sub(r'[^\\w\\s]', '', text)"
      ],
      "metadata": {
        "id": "feRNT6Ttc0jR"
      },
      "execution_count": 32,
      "outputs": []
    },
    {
      "cell_type": "code",
      "source": [
        "text_re"
      ],
      "metadata": {
        "colab": {
          "base_uri": "https://localhost:8080/",
          "height": 36
        },
        "id": "k1vazbK_c73M",
        "outputId": "7b355422-669e-4bff-a616-559fec357098"
      },
      "execution_count": 33,
      "outputs": [
        {
          "output_type": "execute_result",
          "data": {
            "text/plain": [
              "'오늘 자연어처리 수업 재밌다'"
            ],
            "application/vnd.google.colaboratory.intrinsic+json": {
              "type": "string"
            }
          },
          "metadata": {},
          "execution_count": 33
        }
      ]
    },
    {
      "cell_type": "code",
      "source": [
        "text_with_num = \"오늘 2024년도 9월 30일 자연어처리 수업 재밌다!\""
      ],
      "metadata": {
        "id": "JpFGhsCKc8tz"
      },
      "execution_count": 34,
      "outputs": []
    },
    {
      "cell_type": "code",
      "source": [
        "text_num = re.sub(r'\\d+', '', text_with_num)"
      ],
      "metadata": {
        "id": "x8wVdnvgdLsB"
      },
      "execution_count": 35,
      "outputs": []
    },
    {
      "cell_type": "code",
      "source": [
        "text_num"
      ],
      "metadata": {
        "colab": {
          "base_uri": "https://localhost:8080/",
          "height": 36
        },
        "id": "UajtCJOAdT4z",
        "outputId": "33f558fa-8e4a-4cab-a3f4-ecd3d9ab90e8"
      },
      "execution_count": 36,
      "outputs": [
        {
          "output_type": "execute_result",
          "data": {
            "text/plain": [
              "'오늘 년도 월 일 자연어처리 수업 재밌다!'"
            ],
            "application/vnd.google.colaboratory.intrinsic+json": {
              "type": "string"
            }
          },
          "metadata": {},
          "execution_count": 36
        }
      ]
    },
    {
      "cell_type": "code",
      "source": [
        "text_with_email = \"오늘 자연어처리 수업 질문 주세요. 문의: nlp@groom.io\""
      ],
      "metadata": {
        "id": "Tf5XyYA7dUfw"
      },
      "execution_count": 37,
      "outputs": []
    },
    {
      "cell_type": "code",
      "source": [
        "text_email = re.sub(r'\\S+@\\S+', 'EMAIL', text_with_email)"
      ],
      "metadata": {
        "id": "9uKr2RHldthH"
      },
      "execution_count": 38,
      "outputs": []
    },
    {
      "cell_type": "code",
      "source": [
        "text_email"
      ],
      "metadata": {
        "colab": {
          "base_uri": "https://localhost:8080/",
          "height": 36
        },
        "id": "9999x1pRd40T",
        "outputId": "be8e56f3-f441-4728-f85d-db72444635ea"
      },
      "execution_count": 39,
      "outputs": [
        {
          "output_type": "execute_result",
          "data": {
            "text/plain": [
              "'오늘 자연어처리 수업 질문 주세요. 문의: EMAIL'"
            ],
            "application/vnd.google.colaboratory.intrinsic+json": {
              "type": "string"
            }
          },
          "metadata": {},
          "execution_count": 39
        }
      ]
    },
    {
      "cell_type": "code",
      "source": [
        "# 불용어\n",
        "text = \"나는 오늘 자연어처리 수업에서 많은 것들을 배웠어요. 어렵지만 재밌습니다.\""
      ],
      "metadata": {
        "id": "Pu6bwohZd50K"
      },
      "execution_count": 40,
      "outputs": []
    },
    {
      "cell_type": "code",
      "source": [
        "okt = Okt()"
      ],
      "metadata": {
        "id": "ArHvxoLSeM2n"
      },
      "execution_count": 41,
      "outputs": []
    },
    {
      "cell_type": "code",
      "source": [
        "tokens = okt.morphs(text)"
      ],
      "metadata": {
        "id": "8Y5-X6o6ePLV"
      },
      "execution_count": 42,
      "outputs": []
    },
    {
      "cell_type": "code",
      "source": [
        "print(tokens)"
      ],
      "metadata": {
        "colab": {
          "base_uri": "https://localhost:8080/"
        },
        "id": "rqCvYryqeSsd",
        "outputId": "15a20cf0-0080-4281-f1f2-682957efda7b"
      },
      "execution_count": 44,
      "outputs": [
        {
          "output_type": "stream",
          "name": "stdout",
          "text": [
            "['나', '는', '오늘', '자연어', '처리', '수업', '에서', '많은', '것', '들', '을', '배웠어요', '.', '어렵지만', '재밌습니다', '.']\n"
          ]
        }
      ]
    },
    {
      "cell_type": "code",
      "source": [
        "# 불용어 정의\n",
        "stop_words = set(['는', '것', '.', '들', '을', '에서'])"
      ],
      "metadata": {
        "id": "_Ee2-weMeUHd"
      },
      "execution_count": 50,
      "outputs": []
    },
    {
      "cell_type": "code",
      "source": [
        "tokens_without_stopwords = [word for word in tokens if word not in stop_words]"
      ],
      "metadata": {
        "id": "EsMwJIFEehT8"
      },
      "execution_count": 51,
      "outputs": []
    },
    {
      "cell_type": "code",
      "source": [
        "print(tokens_without_stopwords)"
      ],
      "metadata": {
        "colab": {
          "base_uri": "https://localhost:8080/"
        },
        "id": "4ESi6XFuerrV",
        "outputId": "126befb0-378a-49a8-fc1d-83c3db7ec1c4"
      },
      "execution_count": 52,
      "outputs": [
        {
          "output_type": "stream",
          "name": "stdout",
          "text": [
            "['나', '오늘', '자연어', '처리', '수업', '많은', '배웠어요', '어렵지만', '재밌습니다']\n"
          ]
        }
      ]
    },
    {
      "cell_type": "code",
      "source": [
        "import re\n",
        "import nltk\n",
        "from nltk.tokenize import word_tokenize, sent_tokenize\n",
        "from nltk.corpus import stopwords\n",
        "from konlpy.tag import Okt"
      ],
      "metadata": {
        "id": "RND7wcN6ewX7"
      },
      "execution_count": 53,
      "outputs": []
    },
    {
      "cell_type": "code",
      "source": [
        "nltk.download('punkt')\n",
        "nltk.download('stopwords')"
      ],
      "metadata": {
        "colab": {
          "base_uri": "https://localhost:8080/"
        },
        "id": "MMj_uoW0fnCx",
        "outputId": "8b1be950-8e45-4d39-ce5e-bd7f44bf32c8"
      },
      "execution_count": 54,
      "outputs": [
        {
          "output_type": "stream",
          "name": "stderr",
          "text": [
            "[nltk_data] Downloading package punkt to /root/nltk_data...\n",
            "[nltk_data]   Package punkt is already up-to-date!\n",
            "[nltk_data] Downloading package stopwords to /root/nltk_data...\n",
            "[nltk_data]   Unzipping corpora/stopwords.zip.\n"
          ]
        },
        {
          "output_type": "execute_result",
          "data": {
            "text/plain": [
              "True"
            ]
          },
          "metadata": {},
          "execution_count": 54
        }
      ]
    },
    {
      "cell_type": "code",
      "source": [
        "def tokenize_english(text):\n",
        "    sentences = sent_tokenize(text)\n",
        "    words = [word_tokenize(sentence) for sentence in sentences]\n",
        "    return words"
      ],
      "metadata": {
        "id": "mp1Gp7jPfsHN"
      },
      "execution_count": 55,
      "outputs": []
    },
    {
      "cell_type": "code",
      "source": [
        "def tokenize_korean(text):\n",
        "    okt = Okt()\n",
        "    return okt.morphs(text)"
      ],
      "metadata": {
        "id": "rpinKO-7gImC"
      },
      "execution_count": 56,
      "outputs": []
    },
    {
      "cell_type": "code",
      "source": [
        "text = \"안녕하세요! 반갑습니다.\""
      ],
      "metadata": {
        "id": "atqjqW-ogOSC"
      },
      "execution_count": 57,
      "outputs": []
    },
    {
      "cell_type": "code",
      "source": [
        "print(\"토큰화 결과: \", tokenize_korean(text))"
      ],
      "metadata": {
        "colab": {
          "base_uri": "https://localhost:8080/"
        },
        "id": "tw8SohJ0gQf6",
        "outputId": "abff456f-590e-4320-d852-2d136e3103df"
      },
      "execution_count": 58,
      "outputs": [
        {
          "output_type": "stream",
          "name": "stdout",
          "text": [
            "토큰화 결과:  ['안녕하세요', '!', '반갑습니다', '.']\n"
          ]
        }
      ]
    },
    {
      "cell_type": "code",
      "source": [
        "def normalize_text(text):\n",
        "    text = text.title()\n",
        "    text = re.sub(r'[^\\w\\s]', '', text)\n",
        "    text = re.sub(r'\\d+', 'NUM', text)\n",
        "    text = re.sub(r'\\S+@\\S+', 'EMAIL', text)\n",
        "    text = re.sub(r'http\\S+', 'URL', text)\n",
        "    return text"
      ],
      "metadata": {
        "id": "LXAU1QE1gWjU"
      },
      "execution_count": 59,
      "outputs": []
    },
    {
      "cell_type": "code",
      "source": [
        "text_to_normalize = \"Hello! Please contact me at example@email.com or visit https://example.com. I have 3 apples.\""
      ],
      "metadata": {
        "id": "VkbUBWdYhRRU"
      },
      "execution_count": 60,
      "outputs": []
    },
    {
      "cell_type": "code",
      "source": [
        "print(\"정규화: \", normalize_text(text_to_normalize))"
      ],
      "metadata": {
        "colab": {
          "base_uri": "https://localhost:8080/"
        },
        "id": "915ek4HehX_T",
        "outputId": "51260fff-a775-49ee-d65a-cecd0a8ed874"
      },
      "execution_count": 61,
      "outputs": [
        {
          "output_type": "stream",
          "name": "stdout",
          "text": [
            "정규화:  Hello Please Contact Me At ExampleEmailCom Or Visit HttpsExampleCom I Have NUM Apples\n"
          ]
        }
      ]
    },
    {
      "cell_type": "code",
      "source": [
        "text = \"I LOVE this product! It's amazing and works great. The delivery was super fast too. Highly recommend to anyone looking for a good quality item.\""
      ],
      "metadata": {
        "id": "FxSx5mGsheaR"
      },
      "execution_count": 62,
      "outputs": []
    },
    {
      "cell_type": "code",
      "source": [
        "tokens = word_tokenize(text)\n",
        "print(\"토큰화: \", tokens)"
      ],
      "metadata": {
        "colab": {
          "base_uri": "https://localhost:8080/"
        },
        "id": "tqNZhRwkiHBa",
        "outputId": "5d02efd4-129c-4b84-cc22-d3e46726d686"
      },
      "execution_count": 63,
      "outputs": [
        {
          "output_type": "stream",
          "name": "stdout",
          "text": [
            "토큰화:  ['I', 'LOVE', 'this', 'product', '!', 'It', \"'s\", 'amazing', 'and', 'works', 'great', '.', 'The', 'delivery', 'was', 'super', 'fast', 'too', '.', 'Highly', 'recommend', 'to', 'anyone', 'looking', 'for', 'a', 'good', 'quality', 'item', '.']\n"
          ]
        }
      ]
    },
    {
      "cell_type": "code",
      "source": [
        "stop_words = set(stopwords.words('english'))"
      ],
      "metadata": {
        "id": "o8H13L70iMrb"
      },
      "execution_count": 64,
      "outputs": []
    },
    {
      "cell_type": "code",
      "source": [
        "filtered_tokens = [word for word in tokens if word.title() not in stop_words]"
      ],
      "metadata": {
        "id": "vYTKe8QuiRmS"
      },
      "execution_count": 65,
      "outputs": []
    },
    {
      "cell_type": "code",
      "source": [
        "print(\"불용어: \", filtered_tokens)"
      ],
      "metadata": {
        "colab": {
          "base_uri": "https://localhost:8080/"
        },
        "id": "rfWZa80EiYaQ",
        "outputId": "91a3bb6f-7597-44f8-9e6c-87f179477e6c"
      },
      "execution_count": 66,
      "outputs": [
        {
          "output_type": "stream",
          "name": "stdout",
          "text": [
            "불용어:  ['I', 'LOVE', 'this', 'product', '!', 'It', \"'s\", 'amazing', 'and', 'works', 'great', '.', 'The', 'delivery', 'was', 'super', 'fast', 'too', '.', 'Highly', 'recommend', 'to', 'anyone', 'looking', 'for', 'a', 'good', 'quality', 'item', '.']\n"
          ]
        }
      ]
    },
    {
      "cell_type": "code",
      "source": [
        "from nltk.stem import WordNetLemmatizer"
      ],
      "metadata": {
        "id": "A5nXFJVMibvx"
      },
      "execution_count": 67,
      "outputs": []
    },
    {
      "cell_type": "code",
      "source": [
        "nltk.download('wordnet')"
      ],
      "metadata": {
        "colab": {
          "base_uri": "https://localhost:8080/"
        },
        "id": "YzxoxF-MihP2",
        "outputId": "2163ee65-ce69-43d8-c03f-f517ca8944e1"
      },
      "execution_count": 68,
      "outputs": [
        {
          "output_type": "stream",
          "name": "stderr",
          "text": [
            "[nltk_data] Downloading package wordnet to /root/nltk_data...\n"
          ]
        },
        {
          "output_type": "execute_result",
          "data": {
            "text/plain": [
              "True"
            ]
          },
          "metadata": {},
          "execution_count": 68
        }
      ]
    },
    {
      "cell_type": "code",
      "source": [
        "lemmatize = WordNetLemmatizer()"
      ],
      "metadata": {
        "id": "1HisPDj0ikkf"
      },
      "execution_count": 69,
      "outputs": []
    },
    {
      "cell_type": "code",
      "source": [
        "lowercase_tokens = [word.lower() for word in filtered_tokens]"
      ],
      "metadata": {
        "id": "eAUkykbljHSn"
      },
      "execution_count": 71,
      "outputs": []
    },
    {
      "cell_type": "code",
      "source": [
        "lemmatie_tokens = [lemmatize.lemmatize(word) for word in lowercase_tokens]"
      ],
      "metadata": {
        "id": "0mHKf5DMitns"
      },
      "execution_count": 72,
      "outputs": []
    },
    {
      "cell_type": "code",
      "source": [
        "print(\"어근 추출\", lemmatie_tokens)"
      ],
      "metadata": {
        "colab": {
          "base_uri": "https://localhost:8080/"
        },
        "id": "82kNmO32i--e",
        "outputId": "dc4e0b84-c14a-4497-a764-e8a7c6b74c5e"
      },
      "execution_count": 73,
      "outputs": [
        {
          "output_type": "stream",
          "name": "stdout",
          "text": [
            "어근 추출 ['i', 'love', 'this', 'product', '!', 'it', \"'s\", 'amazing', 'and', 'work', 'great', '.', 'the', 'delivery', 'wa', 'super', 'fast', 'too', '.', 'highly', 'recommend', 'to', 'anyone', 'looking', 'for', 'a', 'good', 'quality', 'item', '.']\n"
          ]
        }
      ]
    },
    {
      "cell_type": "code",
      "source": [
        "from sklearn.feature_extraction.text import CountVectorizer"
      ],
      "metadata": {
        "id": "E3OnNA1gjRz5"
      },
      "execution_count": 74,
      "outputs": []
    },
    {
      "cell_type": "code",
      "source": [
        "vectorizer = CountVectorizer()"
      ],
      "metadata": {
        "id": "Pi4DbpeLjXmf"
      },
      "execution_count": 76,
      "outputs": []
    },
    {
      "cell_type": "code",
      "source": [
        "bow_vector = vectorizer.fit_transform([' '.join(lemmatie_tokens)])"
      ],
      "metadata": {
        "id": "aPpgdkETjaFC"
      },
      "execution_count": 77,
      "outputs": []
    },
    {
      "cell_type": "code",
      "source": [
        "print('bow_vector 결과: ', vectorizer.get_feature_names_out())"
      ],
      "metadata": {
        "colab": {
          "base_uri": "https://localhost:8080/"
        },
        "id": "BousmoXajpmx",
        "outputId": "e4ab79fd-3014-4b4e-9461-9e9a6416544f"
      },
      "execution_count": 79,
      "outputs": [
        {
          "output_type": "stream",
          "name": "stdout",
          "text": [
            "bow_vector 결과:  ['amazing' 'and' 'anyone' 'delivery' 'fast' 'for' 'good' 'great' 'highly'\n",
            " 'it' 'item' 'looking' 'love' 'product' 'quality' 'recommend' 'super'\n",
            " 'the' 'this' 'to' 'too' 'wa' 'work']\n"
          ]
        }
      ]
    },
    {
      "cell_type": "code",
      "source": [
        "print(bow_vector.toarray())"
      ],
      "metadata": {
        "colab": {
          "base_uri": "https://localhost:8080/"
        },
        "id": "kWuKzL0Cj5jo",
        "outputId": "643fdd73-d99c-4103-891a-16756334415f"
      },
      "execution_count": 80,
      "outputs": [
        {
          "output_type": "stream",
          "name": "stdout",
          "text": [
            "[[1 1 1 1 1 1 1 1 1 1 1 1 1 1 1 1 1 1 1 1 1 1 1]]\n"
          ]
        }
      ]
    },
    {
      "cell_type": "code",
      "source": [],
      "metadata": {
        "id": "KPKjDf-pkGQU"
      },
      "execution_count": null,
      "outputs": []
    }
  ]
}