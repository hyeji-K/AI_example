{
  "nbformat": 4,
  "nbformat_minor": 0,
  "metadata": {
    "colab": {
      "provenance": [],
      "authorship_tag": "ABX9TyNiqhrIPgSF5ZpXWV7qu7U3",
      "include_colab_link": true
    },
    "kernelspec": {
      "name": "python3",
      "display_name": "Python 3"
    },
    "language_info": {
      "name": "python"
    }
  },
  "cells": [
    {
      "cell_type": "markdown",
      "metadata": {
        "id": "view-in-github",
        "colab_type": "text"
      },
      "source": [
        "<a href=\"https://colab.research.google.com/github/hyeji-K/AI_example/blob/main/0820.ipynb\" target=\"_parent\"><img src=\"https://colab.research.google.com/assets/colab-badge.svg\" alt=\"Open In Colab\"/></a>"
      ]
    },
    {
      "cell_type": "markdown",
      "source": [
        "문자열에서 이메일 주소를 추출하는 정규표현식 코드"
      ],
      "metadata": {
        "id": "ZgARHcbqNaBd"
      }
    },
    {
      "cell_type": "code",
      "execution_count": 5,
      "metadata": {
        "colab": {
          "base_uri": "https://localhost:8080/"
        },
        "id": "gBCL2TMgLHBM",
        "outputId": "84897f33-893d-497a-8396-4fa565b58db5"
      },
      "outputs": [
        {
          "output_type": "stream",
          "name": "stdout",
          "text": [
            "['goorm@gmail.com']\n"
          ]
        }
      ],
      "source": [
        "import re\n",
        "# 이메일이 포함된 문자열\n",
        "str_ex = \"오늘도 goorm@gmail.com 화이팅!\"\n",
        "email = re.findall(r\"[A-Z0-9a-z._+-]+@[a-zA-z]+\\.[a-zA-Z]{2,4}\", str_ex)\n",
        "print(email)"
      ]
    },
    {
      "cell_type": "markdown",
      "source": [
        "리스트 데이터를 이용해 선 그래프를 그리는 코드와 생성된 그래프 이미지"
      ],
      "metadata": {
        "id": "B3gaGXNJNeXj"
      }
    },
    {
      "cell_type": "code",
      "source": [
        "import matplotlib.pyplot as plt\n",
        "\n",
        "random_list = [7, 3, 14, 1, 8, 21, 5]\n",
        "\n",
        "plt.plot(random_list)\n",
        "plt.show()"
      ],
      "metadata": {
        "colab": {
          "base_uri": "https://localhost:8080/",
          "height": 430
        },
        "id": "mbD1nRQhMLsb",
        "outputId": "9b85948e-31e3-4b19-aeb4-bcafc61dcfff"
      },
      "execution_count": 8,
      "outputs": [
        {
          "output_type": "display_data",
          "data": {
            "text/plain": [
              "<Figure size 640x480 with 1 Axes>"
            ],
            "image/png": "[encoded data removed]"
          },
          "metadata": {}
        }
      ]
    },
    {
      "cell_type": "code",
      "source": [
        "def vector_add(vector1, vector2):\n",
        "    if len(vector1) != len(vector2):\n",
        "        raise ValueError(\"두 벡터의 길이가 같아야 함\")\n",
        "\n",
        "    result = [v1 + v2 for v1, v2 in zip(vector1, vector2)]\n",
        "    return result"
      ],
      "metadata": {
        "id": "DDfpoea8ORV9"
      },
      "execution_count": 9,
      "outputs": []
    },
    {
      "cell_type": "code",
      "source": [
        "vector_add([3, 5, 2], [9, 3, 2])"
      ],
      "metadata": {
        "colab": {
          "base_uri": "https://localhost:8080/"
        },
        "id": "ct6WGVY_Qo3C",
        "outputId": "d405e79b-8c03-4b4d-a3ea-f821400ee0be"
      },
      "execution_count": 10,
      "outputs": [
        {
          "output_type": "execute_result",
          "data": {
            "text/plain": [
              "[12, 8, 4]"
            ]
          },
          "metadata": {},
          "execution_count": 10
        }
      ]
    },
    {
      "cell_type": "code",
      "source": [
        "def vector_sub(vector1, vector2):\n",
        "    if len(vector1) != len(vector2):\n",
        "        raise ValueError(\"두 벡터의 길이가 같아야 함\")\n",
        "\n",
        "    result = [v1 - v2 for v1, v2 in zip(vector1, vector2)]\n",
        "    return result"
      ],
      "metadata": {
        "id": "6KeHi03dQuG8"
      },
      "execution_count": 12,
      "outputs": []
    },
    {
      "cell_type": "code",
      "source": [
        "vector_sub([8, 1, 4], [5, 4, 9])"
      ],
      "metadata": {
        "colab": {
          "base_uri": "https://localhost:8080/"
        },
        "id": "bVYZTCoDQ4W-",
        "outputId": "44ed03f2-ac31-41b7-d30d-998cc2a1b647"
      },
      "execution_count": 13,
      "outputs": [
        {
          "output_type": "execute_result",
          "data": {
            "text/plain": [
              "[3, -3, -5]"
            ]
          },
          "metadata": {},
          "execution_count": 13
        }
      ]
    },
    {
      "cell_type": "code",
      "source": [
        "def hello():\n",
        "    print(\"hello\")"
      ],
      "metadata": {
        "id": "KZeo9KCsQ9lW"
      },
      "execution_count": 1,
      "outputs": []
    },
    {
      "cell_type": "code",
      "source": [
        "hello()"
      ],
      "metadata": {
        "colab": {
          "base_uri": "https://localhost:8080/"
        },
        "id": "8WIBdy3U0MJL",
        "outputId": "a7d7582a-bac3-42a2-e247-721a1f88a533"
      },
      "execution_count": 2,
      "outputs": [
        {
          "output_type": "stream",
          "name": "stdout",
          "text": [
            "hello\n"
          ]
        }
      ]
    },
    {
      "cell_type": "code",
      "source": [
        "def deco(fn):\n",
        "    def deco_hello():\n",
        "        print(\"*\" * 20)\n",
        "        fn()\n",
        "        print(\"*\" * 20)\n",
        "    return deco_hello"
      ],
      "metadata": {
        "id": "3PqrSHwv0M8s"
      },
      "execution_count": 3,
      "outputs": []
    },
    {
      "cell_type": "code",
      "source": [
        "deco_hello = deco(hello)\n",
        "deco_hello()"
      ],
      "metadata": {
        "colab": {
          "base_uri": "https://localhost:8080/"
        },
        "id": "SRM0Q52w0WoM",
        "outputId": "96f80cb7-d377-4339-e4f6-bf364c42e266"
      },
      "execution_count": 5,
      "outputs": [
        {
          "output_type": "stream",
          "name": "stdout",
          "text": [
            "********************\n",
            "hello\n",
            "********************\n"
          ]
        }
      ]
    },
    {
      "cell_type": "code",
      "source": [
        "@deco\n",
        "def hello2():\n",
        "    print(\"hello 2\")"
      ],
      "metadata": {
        "id": "5PM8XfXS0cbP"
      },
      "execution_count": 6,
      "outputs": []
    },
    {
      "cell_type": "code",
      "source": [
        "hello2()"
      ],
      "metadata": {
        "colab": {
          "base_uri": "https://localhost:8080/"
        },
        "id": "NMxo1q871rq0",
        "outputId": "c04a9648-c96f-4593-cf15-ef52f6484487"
      },
      "execution_count": 7,
      "outputs": [
        {
          "output_type": "stream",
          "name": "stdout",
          "text": [
            "********************\n",
            "hello 2\n",
            "********************\n"
          ]
        }
      ]
    },
    {
      "cell_type": "code",
      "source": [
        "class Car:\n",
        "    def __init__(self, model):\n",
        "        self.model = model\n",
        "\n",
        "    @property\n",
        "    def get_model(self):\n",
        "        return self.model"
      ],
      "metadata": {
        "id": "hfjNVu2y1s5_"
      },
      "execution_count": 12,
      "outputs": []
    },
    {
      "cell_type": "code",
      "source": [
        "c = Car(\"GV80\")\n",
        "print(c.get_model)"
      ],
      "metadata": {
        "colab": {
          "base_uri": "https://localhost:8080/"
        },
        "id": "NYA0OCDu3A4T",
        "outputId": "195264dd-8feb-482d-bc9f-d511ca28c9ff"
      },
      "execution_count": 14,
      "outputs": [
        {
          "output_type": "stream",
          "name": "stdout",
          "text": [
            "GV80\n"
          ]
        }
      ]
    },
    {
      "cell_type": "code",
      "source": [
        "import logging\n",
        "\n",
        "logging.basicConfig(level=logging.INFO)\n",
        "\n",
        "def hap(a, b):\n",
        "    ret = a + b\n",
        "    logging.info(f\"input: {a} {b}, output={ret}\")\n",
        "    return ret\n",
        "\n",
        "result = hap(3, 4)\n",
        "print(result)"
      ],
      "metadata": {
        "colab": {
          "base_uri": "https://localhost:8080/"
        },
        "id": "3VYvoE9q3FyQ",
        "outputId": "e5ce7920-c872-4d8c-b173-166206b7ce81"
      },
      "execution_count": 17,
      "outputs": [
        {
          "output_type": "stream",
          "name": "stdout",
          "text": [
            "7\n"
          ]
        }
      ]
    },
    {
      "cell_type": "code",
      "source": [
        "import threading\n",
        "import time\n",
        "\n",
        "class Worker(threading.Thread):\n",
        "    def __init__(self, name):\n",
        "        super().__init__()\n",
        "        self.name = name\n",
        "\n",
        "    def run(self):\n",
        "        print(\"sub thread start \", threading.current_thread().name)\n",
        "        time.sleep(3)\n",
        "        print(\"sub thread end \", threading.current_thread().name)\n",
        "\n",
        "print(\"main thread start\")\n",
        "for i in range(5):\n",
        "    name = \"thread {}\".format(i)\n",
        "    t = Worker(name)\n",
        "    t.start()\n",
        "\n",
        "print(\"main thread end\")"
      ],
      "metadata": {
        "colab": {
          "base_uri": "https://localhost:8080/"
        },
        "id": "Zp-92OJS6kNE",
        "outputId": "b737c1f4-008d-474d-cf2e-76dd13795322"
      },
      "execution_count": 26,
      "outputs": [
        {
          "output_type": "stream",
          "name": "stdout",
          "text": [
            "main thread start\n",
            "sub thread start  thread 0\n",
            "sub thread start  thread 1\n",
            "sub thread start  thread 2\n",
            "sub thread start  thread 3\n",
            "sub thread start  thread 4\n",
            "main thread end\n"
          ]
        }
      ]
    },
    {
      "cell_type": "code",
      "source": [
        "import threading\n",
        "import time\n",
        "\n",
        "class Worker2(threading.Thread):\n",
        "    def __init__(self, name):\n",
        "        super().__init__()\n",
        "        self.name = name\n",
        "\n",
        "    def run(self):\n",
        "        print(\"sub thread start \", threading.current_thread().name)\n",
        "        time.sleep(3)\n",
        "        print(\"sub thread end \", threading.current_thread().name)\n",
        "\n",
        "print(\"main thread start\")\n",
        "for i in range(5):\n",
        "    name = \"thread {}\".format(i)\n",
        "    t = Worker2(name)\n",
        "    t.daemon = True\n",
        "    t.start()\n",
        "\n",
        "print(\"main thread end\")"
      ],
      "metadata": {
        "colab": {
          "base_uri": "https://localhost:8080/"
        },
        "id": "_pGRwocG8nyh",
        "outputId": "eb54deda-7b83-4681-e965-92dcb01a2f5b"
      },
      "execution_count": 5,
      "outputs": [
        {
          "output_type": "stream",
          "name": "stdout",
          "text": [
            "main thread start\n",
            "sub thread start  thread 0\n",
            "sub thread start  thread 1\n",
            "sub thread start  thread 2\n",
            "sub thread start  thread 3\n",
            "sub thread start main thread end\n",
            " thread 4\n"
          ]
        }
      ]
    },
    {
      "cell_type": "code",
      "source": [],
      "metadata": {
        "colab": {
          "base_uri": "https://localhost:8080/"
        },
        "id": "usBUeYIt86ci",
        "outputId": "00f1f632-5d98-40ad-8c36-7b40c2800d46"
      },
      "execution_count": 3,
      "outputs": [
        {
          "output_type": "stream",
          "name": "stdout",
          "text": [
            "sub thread end  thread 0\n",
            "sub thread end  thread 1\n",
            "sub thread end  thread 2\n",
            "sub thread end  thread 3\n",
            "sub thread end  thread 4\n"
          ]
        }
      ]
    }
  ]
}