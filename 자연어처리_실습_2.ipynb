{
  "nbformat": 4,
  "nbformat_minor": 0,
  "metadata": {
    "colab": {
      "provenance": [],
      "authorship_tag": "ABX9TyN9wvEwpRBayTctHYljn04K",
      "include_colab_link": true
    },
    "kernelspec": {
      "name": "python3",
      "display_name": "Python 3"
    },
    "language_info": {
      "name": "python"
    }
  },
  "cells": [
    {
      "cell_type": "markdown",
      "metadata": {
        "id": "view-in-github",
        "colab_type": "text"
      },
      "source": [
        "<a href=\"https://colab.research.google.com/github/hyeji-K/AI_example/blob/main/%EC%9E%90%EC%97%B0%EC%96%B4%EC%B2%98%EB%A6%AC_%EC%8B%A4%EC%8A%B5_2.ipynb\" target=\"_parent\"><img src=\"https://colab.research.google.com/assets/colab-badge.svg\" alt=\"Open In Colab\"/></a>"
      ]
    },
    {
      "cell_type": "code",
      "source": [
        "!pip install googletrans==3.1.0a0"
      ],
      "metadata": {
        "colab": {
          "base_uri": "https://localhost:8080/",
          "height": 672
        },
        "collapsed": true,
        "id": "zxl0XLcJqw5q",
        "outputId": "c37576a7-619b-48de-d61b-77209471848a"
      },
      "execution_count": 8,
      "outputs": [
        {
          "output_type": "stream",
          "name": "stdout",
          "text": [
            "Found existing installation: googletrans 3.0.0\n",
            "Uninstalling googletrans-3.0.0:\n",
            "  Would remove:\n",
            "    /usr/local/bin/translate\n",
            "    /usr/local/lib/python3.10/dist-packages/googletrans-3.0.0.dist-info/*\n",
            "    /usr/local/lib/python3.10/dist-packages/googletrans/*\n",
            "Proceed (Y/n)? y\n",
            "  Successfully uninstalled googletrans-3.0.0\n",
            "Collecting googletrans==3.1.0a0\n",
            "  Downloading googletrans-3.1.0a0.tar.gz (19 kB)\n",
            "  Preparing metadata (setup.py) ... \u001b[?25l\u001b[?25hdone\n",
            "Requirement already satisfied: httpx==0.13.3 in /usr/local/lib/python3.10/dist-packages (from googletrans==3.1.0a0) (0.13.3)\n",
            "Requirement already satisfied: certifi in /usr/local/lib/python3.10/dist-packages (from httpx==0.13.3->googletrans==3.1.0a0) (2024.8.30)\n",
            "Requirement already satisfied: hstspreload in /usr/local/lib/python3.10/dist-packages (from httpx==0.13.3->googletrans==3.1.0a0) (2024.10.1)\n",
            "Requirement already satisfied: sniffio in /usr/local/lib/python3.10/dist-packages (from httpx==0.13.3->googletrans==3.1.0a0) (1.3.1)\n",
            "Requirement already satisfied: chardet==3.* in /usr/local/lib/python3.10/dist-packages (from httpx==0.13.3->googletrans==3.1.0a0) (3.0.4)\n",
            "Requirement already satisfied: idna==2.* in /usr/local/lib/python3.10/dist-packages (from httpx==0.13.3->googletrans==3.1.0a0) (2.10)\n",
            "Requirement already satisfied: rfc3986<2,>=1.3 in /usr/local/lib/python3.10/dist-packages (from httpx==0.13.3->googletrans==3.1.0a0) (1.5.0)\n",
            "Requirement already satisfied: httpcore==0.9.* in /usr/local/lib/python3.10/dist-packages (from httpx==0.13.3->googletrans==3.1.0a0) (0.9.1)\n",
            "Requirement already satisfied: h11<0.10,>=0.8 in /usr/local/lib/python3.10/dist-packages (from httpcore==0.9.*->httpx==0.13.3->googletrans==3.1.0a0) (0.9.0)\n",
            "Requirement already satisfied: h2==3.* in /usr/local/lib/python3.10/dist-packages (from httpcore==0.9.*->httpx==0.13.3->googletrans==3.1.0a0) (3.2.0)\n",
            "Requirement already satisfied: hyperframe<6,>=5.2.0 in /usr/local/lib/python3.10/dist-packages (from h2==3.*->httpcore==0.9.*->httpx==0.13.3->googletrans==3.1.0a0) (5.2.0)\n",
            "Requirement already satisfied: hpack<4,>=3.0 in /usr/local/lib/python3.10/dist-packages (from h2==3.*->httpcore==0.9.*->httpx==0.13.3->googletrans==3.1.0a0) (3.0.0)\n",
            "Building wheels for collected packages: googletrans\n",
            "  Building wheel for googletrans (setup.py) ... \u001b[?25l\u001b[?25hdone\n",
            "  Created wheel for googletrans: filename=googletrans-3.1.0a0-py3-none-any.whl size=16353 sha256=f2b8c27a29230c8540b7c0785eafbdbec9b0128f554896a2ab8edadc0189f55a\n",
            "  Stored in directory: /root/.cache/pip/wheels/50/5d/3c/8477d0af4ca2b8b1308812c09f1930863caeebc762fe265a95\n",
            "Successfully built googletrans\n",
            "Installing collected packages: googletrans\n",
            "Successfully installed googletrans-3.1.0a0\n"
          ]
        },
        {
          "output_type": "display_data",
          "data": {
            "application/vnd.colab-display-data+json": {
              "pip_warning": {
                "packages": [
                  "googletrans"
                ]
              },
              "id": "16905e5d7c8a436a8b60c3ad9e7ab469"
            }
          },
          "metadata": {}
        }
      ]
    },
    {
      "cell_type": "code",
      "execution_count": 4,
      "metadata": {
        "id": "ryAD3WKufa7N"
      },
      "outputs": [],
      "source": [
        "from googletrans import Translator"
      ]
    },
    {
      "cell_type": "code",
      "source": [
        "def translate_kr_to_en(text):\n",
        "    translator = Translator()\n",
        "    result = translator.translate(text, src='ko', dest='en')\n",
        "    return result.text"
      ],
      "metadata": {
        "id": "OOvry3MnqPNP"
      },
      "execution_count": 5,
      "outputs": []
    },
    {
      "cell_type": "code",
      "source": [
        "korean_text = \"안녕하세요. 오늘 날씨가 좋습니다.\"\n",
        "english_translation = translate_kr_to_en(korean_text)\n",
        "\n",
        "print(f\"한국어: {korean_text}\")\n",
        "print(f\"영어 번역: {english_translation}\")"
      ],
      "metadata": {
        "colab": {
          "base_uri": "https://localhost:8080/"
        },
        "id": "J4VSedDsqlR3",
        "outputId": "53c77642-6321-46f1-bbf7-c3429235846c"
      },
      "execution_count": 6,
      "outputs": [
        {
          "output_type": "stream",
          "name": "stdout",
          "text": [
            "한국어: 안녕하세요. 오늘 날씨가 좋습니다.\n",
            "영어 번역: hello. The weather is nice today.\n"
          ]
        }
      ]
    },
    {
      "cell_type": "code",
      "source": [
        "translator = Translator()"
      ],
      "metadata": {
        "id": "zYupy6lKrGjo"
      },
      "execution_count": 7,
      "outputs": []
    },
    {
      "cell_type": "code",
      "source": [
        "sentence = '나는 편의점에서 라면과 삼각김밥을 샀어요.'\n",
        "detected_language = translator.detect(sentence)\n",
        "\n",
        "print(detected_language)\n",
        "print(detected_language.lang)"
      ],
      "metadata": {
        "colab": {
          "base_uri": "https://localhost:8080/"
        },
        "id": "WRytn_otwIHW",
        "outputId": "72df18b5-c696-4928-e525-c3fb6edc0b7b"
      },
      "execution_count": 8,
      "outputs": [
        {
          "output_type": "stream",
          "name": "stdout",
          "text": [
            "Detected(lang=ko, confidence=1)\n",
            "ko\n"
          ]
        }
      ]
    },
    {
      "cell_type": "code",
      "source": [
        "import numpy as np\n",
        "from gensim.models import Word2Vec\n",
        "from sklearn.feature_extraction.text import CountVectorizer\n",
        "from tensorflow.keras.preprocessing.text import Tokenizer\n",
        "from tensorflow.keras.preprocessing.sequence import pad_sequences"
      ],
      "metadata": {
        "id": "Rl6N3zcewL4w"
      },
      "execution_count": 9,
      "outputs": []
    },
    {
      "cell_type": "code",
      "source": [
        "sentences = [\n",
        "    \"I love natural language processing\",\n",
        "    \"Word embeddings are powerful\",\n",
        "    \"Neural networks can learn word representations\"\n",
        "]"
      ],
      "metadata": {
        "id": "sMWCuTfJxaw9"
      },
      "execution_count": 10,
      "outputs": []
    },
    {
      "cell_type": "code",
      "source": [
        "# Word2Vec\n",
        "word_lists = [sentence.lower().split() for sentence in sentences]\n",
        "\n",
        "model = Word2Vec(sentences=word_lists, vector_size=100, window=5, min_count=1, workers=4)"
      ],
      "metadata": {
        "id": "NkKc-0DqyXhq"
      },
      "execution_count": 12,
      "outputs": []
    },
    {
      "cell_type": "code",
      "source": [
        "print(\"1. Word2Vec:\")\n",
        "print(\"'love'의 벡터 표현:\", model.wv['love'][:5], \"...\")  # 처음 5개 요소만 출력\n",
        "print(\"'powerful'과 가장 유사한 단어:\", model.wv.most_similar('powerful', topn=3))"
      ],
      "metadata": {
        "colab": {
          "base_uri": "https://localhost:8080/"
        },
        "id": "RH80Uv82yqoq",
        "outputId": "14b21d76-aabf-423f-8362-6be4bba726f5"
      },
      "execution_count": 13,
      "outputs": [
        {
          "output_type": "stream",
          "name": "stdout",
          "text": [
            "1. Word2Vec:\n",
            "'love'의 벡터 표현: [-0.00194422 -0.00526752  0.00944711 -0.00929873  0.00450395] ...\n",
            "'powerful'과 가장 유사한 단어: [('learn', 0.1459505707025528), ('language', 0.05048206448554993), ('can', 0.04157451540231705)]\n"
          ]
        }
      ]
    },
    {
      "cell_type": "code",
      "source": [
        "# 워드 임베딩\n",
        "tokenizer = Tokenizer()\n",
        "tokenizer.fit_on_texts(sentences)\n",
        "sequences = tokenizer.texts_to_sequences(sentences)\n",
        "padded_sequences = pad_sequences(sequences)\n",
        "\n",
        "print(\"\\n2. 워드 임베딩 (Keras):\")\n",
        "print(\"단어 인덱스:\", tokenizer.word_index)\n",
        "print(\"패딩된 시퀀스:\", padded_sequences)"
      ],
      "metadata": {
        "colab": {
          "base_uri": "https://localhost:8080/"
        },
        "id": "s4v5ZnISyvGc",
        "outputId": "dcff7c5c-4194-41ed-d152-f1fe56ed93ab"
      },
      "execution_count": 14,
      "outputs": [
        {
          "output_type": "stream",
          "name": "stdout",
          "text": [
            "\n",
            "2. 워드 임베딩 (Keras):\n",
            "단어 인덱스: {'word': 1, 'i': 2, 'love': 3, 'natural': 4, 'language': 5, 'processing': 6, 'embeddings': 7, 'are': 8, 'powerful': 9, 'neural': 10, 'networks': 11, 'can': 12, 'learn': 13, 'representations': 14}\n",
            "패딩된 시퀀스: [[ 0  2  3  4  5  6]\n",
            " [ 0  0  1  7  8  9]\n",
            " [10 11 12 13  1 14]]\n"
          ]
        }
      ]
    },
    {
      "cell_type": "code",
      "source": [
        "# 3. 원-핫 인코딩\n",
        "vectorizer = CountVectorizer(binary=True)\n",
        "one_hot = vectorizer.fit_transform(sentences).toarray()\n",
        "\n",
        "print(\"\\n3. 원-핫 인코딩:\")\n",
        "print(\"특성 이름:\", vectorizer.get_feature_names_out())\n",
        "print(\"원-핫 인코딩 결과:\\n\", one_hot)"
      ],
      "metadata": {
        "colab": {
          "base_uri": "https://localhost:8080/"
        },
        "id": "pI7HTSO10thT",
        "outputId": "3984535f-ad18-43ad-bf63-1bfd5e104509"
      },
      "execution_count": 15,
      "outputs": [
        {
          "output_type": "stream",
          "name": "stdout",
          "text": [
            "\n",
            "3. 원-핫 인코딩:\n",
            "특성 이름: ['are' 'can' 'embeddings' 'language' 'learn' 'love' 'natural' 'networks'\n",
            " 'neural' 'powerful' 'processing' 'representations' 'word']\n",
            "원-핫 인코딩 결과:\n",
            " [[0 0 0 1 0 1 1 0 0 0 1 0 0]\n",
            " [1 0 1 0 0 0 0 0 0 1 0 0 1]\n",
            " [0 1 0 0 1 0 0 1 1 0 0 1 1]]\n"
          ]
        }
      ]
    },
    {
      "cell_type": "code",
      "source": [
        "import tensorflow as tf\n",
        "from tensorflow import keras\n",
        "from nltk.corpus import stopwords\n",
        "from nltk.tokenize import word_tokenize\n",
        "from collections import Counter\n",
        "# 데이터 시각화 라이브러리\n",
        "import matplotlib.pyplot as plt\n",
        "import nltk"
      ],
      "metadata": {
        "id": "kzgHQmVL2Xro"
      },
      "execution_count": 16,
      "outputs": []
    },
    {
      "cell_type": "code",
      "source": [
        "nltk.download('punkt')\n",
        "nltk.download('stopwords')"
      ],
      "metadata": {
        "colab": {
          "base_uri": "https://localhost:8080/"
        },
        "id": "askADo_j20py",
        "outputId": "b2478862-f0a5-4f27-8f77-4d493028785f"
      },
      "execution_count": 17,
      "outputs": [
        {
          "output_type": "stream",
          "name": "stderr",
          "text": [
            "[nltk_data] Downloading package punkt to /root/nltk_data...\n",
            "[nltk_data]   Unzipping tokenizers/punkt.zip.\n",
            "[nltk_data] Downloading package stopwords to /root/nltk_data...\n",
            "[nltk_data]   Unzipping corpora/stopwords.zip.\n"
          ]
        },
        {
          "output_type": "execute_result",
          "data": {
            "text/plain": [
              "True"
            ]
          },
          "metadata": {},
          "execution_count": 17
        }
      ]
    },
    {
      "cell_type": "code",
      "source": [
        "# IMDB 데이터셋 로드\n",
        "(x_train, y_train), (x_test, y_test) = keras.datasets.imdb.load_data(num_words=10000)"
      ],
      "metadata": {
        "colab": {
          "base_uri": "https://localhost:8080/"
        },
        "id": "1OG0WW3-3OFW",
        "outputId": "eb13f1ed-72e9-4c0e-9284-898a85a40424"
      },
      "execution_count": 18,
      "outputs": [
        {
          "output_type": "stream",
          "name": "stdout",
          "text": [
            "Downloading data from https://storage.googleapis.com/tensorflow/tf-keras-datasets/imdb.npz\n",
            "\u001b[1m17464789/17464789\u001b[0m \u001b[32m━━━━━━━━━━━━━━━━━━━━\u001b[0m\u001b[37m\u001b[0m \u001b[1m0s\u001b[0m 0us/step\n"
          ]
        }
      ]
    },
    {
      "cell_type": "code",
      "source": [
        "# 단어 인덱스 가져오기\n",
        "word_index = keras.datasets.imdb.get_word_index()\n",
        "index_word = {v: k for k, v in word_index.items()}"
      ],
      "metadata": {
        "colab": {
          "base_uri": "https://localhost:8080/"
        },
        "id": "S5GLHXo_4JaP",
        "outputId": "b00cbca6-7c90-4f51-fb47-3c1e921f18c8"
      },
      "execution_count": 21,
      "outputs": [
        {
          "output_type": "stream",
          "name": "stdout",
          "text": [
            "Downloading data from https://storage.googleapis.com/tensorflow/tf-keras-datasets/imdb_word_index.json\n",
            "\u001b[1m1641221/1641221\u001b[0m \u001b[32m━━━━━━━━━━━━━━━━━━━━\u001b[0m\u001b[37m\u001b[0m \u001b[1m0s\u001b[0m 0us/step\n"
          ]
        }
      ]
    },
    {
      "cell_type": "code",
      "source": [
        "def decode_review(text):\n",
        "    return ' '.join([index_word.get(i - 3, '?') for i in text])\n",
        "\n",
        "# 불용어 제거 함수\n",
        "stop_words = set(stopwords.words('english'))\n",
        "def remove_stopwords(text):\n",
        "    words = word_tokenize(text.lower())\n",
        "    return [word for word in words if word.isalnum() and word not in stop_words]\n",
        "\n",
        "# 모든 리뷰 합치기\n",
        "all_words = []\n",
        "for review in x_train:\n",
        "    decoded = decode_review(review)\n",
        "    words = remove_stopwords(decoded)\n",
        "    all_words.extend(words)\n",
        "\n",
        "# 단어 빈도 계산\n",
        "word_freq = Counter(all_words)\n",
        "\n",
        "# 상위 20개 단어 출력\n",
        "print(\"상위 20개 단어:\")\n",
        "for word, count in word_freq.most_common(20):\n",
        "    print(f\"{word}: {count}\")"
      ],
      "metadata": {
        "colab": {
          "base_uri": "https://localhost:8080/"
        },
        "id": "z0Sy20L8AKaT",
        "outputId": "10d0f381-e55c-4e5b-a5f4-39f37a2b8eb7"
      },
      "execution_count": 22,
      "outputs": [
        {
          "output_type": "stream",
          "name": "stdout",
          "text": [
            "상위 20개 단어:\n",
            "br: 101871\n",
            "movie: 43987\n",
            "film: 40128\n",
            "one: 26765\n",
            "like: 20272\n",
            "good: 15100\n",
            "would: 13485\n",
            "time: 12682\n",
            "even: 12650\n",
            "story: 11948\n",
            "really: 11734\n",
            "see: 11460\n",
            "well: 10644\n",
            "much: 9758\n",
            "could: 9407\n",
            "people: 9271\n",
            "bad: 9270\n",
            "get: 9269\n",
            "also: 9157\n",
            "first: 9057\n"
          ]
        }
      ]
    },
    {
      "cell_type": "code",
      "source": [
        "# 단어 빈도 그래프 생성\n",
        "plt.figure(figsize=(12, 6))\n",
        "words, counts = zip(*word_freq.most_common(30))\n",
        "plt.bar(words, counts)\n",
        "plt.title('Top 30 Words in IMDB Reviews')\n",
        "plt.xticks(rotation=45, ha='right')\n",
        "plt.tight_layout()\n",
        "plt.show()"
      ],
      "metadata": {
        "colab": {
          "base_uri": "https://localhost:8080/",
          "height": 607
        },
        "id": "efGH21fj3Ryr",
        "outputId": "9ac5e28f-c74e-4534-d237-d3cad84de840"
      },
      "execution_count": 23,
      "outputs": [
        {
          "output_type": "display_data",
          "data": {
            "text/plain": [
              "<Figure size 1200x600 with 1 Axes>"
            ],
            "image/png": "[encoded data removed]"
          },
          "metadata": {}
        }
      ]
    },
    {
      "cell_type": "code",
      "source": [
        "# 총 단어 수와 고유 단어 수\n",
        "print(f\"\\n총 단어 수: {len(all_words)}\")\n",
        "print(f\"고유 단어 수: {len(set(all_words))}\")"
      ],
      "metadata": {
        "colab": {
          "base_uri": "https://localhost:8080/"
        },
        "id": "nG0cZpJSAXY8",
        "outputId": "8e0139bf-b58a-4a22-89d1-706e54e0ee6e"
      },
      "execution_count": 24,
      "outputs": [
        {
          "output_type": "stream",
          "name": "stdout",
          "text": [
            "\n",
            "총 단어 수: 2792524\n",
            "고유 단어 수: 9655\n"
          ]
        }
      ]
    }
  ]
}