{
  "nbformat": 4,
  "nbformat_minor": 0,
  "metadata": {
    "colab": {
      "provenance": [],
      "authorship_tag": "ABX9TyNEv8AUxg7OjUPBhnwC4ioY",
      "include_colab_link": true
    },
    "kernelspec": {
      "name": "python3",
      "display_name": "Python 3"
    },
    "language_info": {
      "name": "python"
    }
  },
  "cells": [
    {
      "cell_type": "markdown",
      "metadata": {
        "id": "view-in-github",
        "colab_type": "text"
      },
      "source": [
        "<a href=\"https://colab.research.google.com/github/hyeji-K/AI_example/blob/main/0819%ED%8C%8C%EC%9D%B4%EC%8D%AC.ipynb\" target=\"_parent\"><img src=\"https://colab.research.google.com/assets/colab-badge.svg\" alt=\"Open In Colab\"/></a>"
      ]
    },
    {
      "cell_type": "markdown",
      "source": [
        "# 모듈에 대해서"
      ],
      "metadata": {
        "id": "wsnORMpi02yi"
      }
    },
    {
      "cell_type": "code",
      "execution_count": 6,
      "metadata": {
        "colab": {
          "base_uri": "https://localhost:8080/"
        },
        "id": "-2RmPJok0wmo",
        "outputId": "7997fefd-7933-4c12-c1cd-c311946e0a9d"
      },
      "outputs": [
        {
          "output_type": "execute_result",
          "data": {
            "text/plain": [
              "['Calendar',\n",
              " 'EPOCH',\n",
              " 'FRIDAY',\n",
              " 'February',\n",
              " 'HTMLCalendar',\n",
              " 'IllegalMonthError',\n",
              " 'IllegalWeekdayError',\n",
              " 'January',\n",
              " 'LocaleHTMLCalendar',\n",
              " 'LocaleTextCalendar',\n",
              " 'MONDAY',\n",
              " 'SATURDAY',\n",
              " 'SUNDAY',\n",
              " 'THURSDAY',\n",
              " 'TUESDAY',\n",
              " 'TextCalendar',\n",
              " 'WEDNESDAY',\n",
              " '_EPOCH_ORD',\n",
              " '__all__',\n",
              " '__builtins__',\n",
              " '__cached__',\n",
              " '__doc__',\n",
              " '__file__',\n",
              " '__loader__',\n",
              " '__name__',\n",
              " '__package__',\n",
              " '__spec__',\n",
              " '_colwidth',\n",
              " '_locale',\n",
              " '_localized_day',\n",
              " '_localized_month',\n",
              " '_monthlen',\n",
              " '_nextmonth',\n",
              " '_prevmonth',\n",
              " '_spacing',\n",
              " 'c',\n",
              " 'calendar',\n",
              " 'datetime',\n",
              " 'day_abbr',\n",
              " 'day_name',\n",
              " 'different_locale',\n",
              " 'error',\n",
              " 'firstweekday',\n",
              " 'format',\n",
              " 'formatstring',\n",
              " 'isleap',\n",
              " 'leapdays',\n",
              " 'main',\n",
              " 'mdays',\n",
              " 'month',\n",
              " 'month_abbr',\n",
              " 'month_name',\n",
              " 'monthcalendar',\n",
              " 'monthrange',\n",
              " 'prcal',\n",
              " 'prmonth',\n",
              " 'prweek',\n",
              " 'repeat',\n",
              " 'setfirstweekday',\n",
              " 'sys',\n",
              " 'timegm',\n",
              " 'week',\n",
              " 'weekday',\n",
              " 'weekheader']"
            ]
          },
          "metadata": {},
          "execution_count": 6
        }
      ],
      "source": [
        "import calendar\n",
        "dir(calendar)"
      ]
    },
    {
      "cell_type": "code",
      "source": [
        "a = [x for x in dir(calendar) if 'leap' in x]\n",
        "print(a)"
      ],
      "metadata": {
        "colab": {
          "base_uri": "https://localhost:8080/"
        },
        "id": "Hb2incFi1IGb",
        "outputId": "36988c8c-9536-4e2e-f0ad-62331263d46f"
      },
      "execution_count": 12,
      "outputs": [
        {
          "output_type": "stream",
          "name": "stdout",
          "text": [
            "['isleap', 'leapdays']\n"
          ]
        }
      ]
    },
    {
      "cell_type": "code",
      "source": [
        "help(calendar.isleap)"
      ],
      "metadata": {
        "colab": {
          "base_uri": "https://localhost:8080/"
        },
        "id": "B67dE8-22Dup",
        "outputId": "591b1a23-51e3-466c-ec8c-73054d0bdcae"
      },
      "execution_count": 14,
      "outputs": [
        {
          "output_type": "stream",
          "name": "stdout",
          "text": [
            "Help on function isleap in module calendar:\n",
            "\n",
            "isleap(year)\n",
            "    Return True for leap years, False for non-leap years.\n",
            "\n"
          ]
        }
      ]
    },
    {
      "cell_type": "code",
      "source": [
        "calendar.isleap(2077)"
      ],
      "metadata": {
        "colab": {
          "base_uri": "https://localhost:8080/"
        },
        "id": "MHnb7xlN3oyG",
        "outputId": "c8d569f4-f1a6-45f9-b5dc-6fba1dae6fbd"
      },
      "execution_count": 15,
      "outputs": [
        {
          "output_type": "execute_result",
          "data": {
            "text/plain": [
              "False"
            ]
          },
          "metadata": {},
          "execution_count": 15
        }
      ]
    },
    {
      "cell_type": "code",
      "source": [
        "import random\n",
        "random.random()"
      ],
      "metadata": {
        "colab": {
          "base_uri": "https://localhost:8080/"
        },
        "id": "FURGcOtJ3wKq",
        "outputId": "b7eb56ae-6978-4aeb-ef95-b5ff896b9b2f"
      },
      "execution_count": 16,
      "outputs": [
        {
          "output_type": "execute_result",
          "data": {
            "text/plain": [
              "0.360421942287076"
            ]
          },
          "metadata": {},
          "execution_count": 16
        }
      ]
    },
    {
      "cell_type": "code",
      "source": [
        "random.randrange(1, 7)"
      ],
      "metadata": {
        "colab": {
          "base_uri": "https://localhost:8080/"
        },
        "id": "ZbeDk13f4G_R",
        "outputId": "0784e3a1-ac2f-41eb-a5f4-a785028c82bb"
      },
      "execution_count": 18,
      "outputs": [
        {
          "output_type": "execute_result",
          "data": {
            "text/plain": [
              "1"
            ]
          },
          "metadata": {},
          "execution_count": 18
        }
      ]
    },
    {
      "cell_type": "code",
      "source": [
        "abc = ['a', 'b', 'c', 'd', 'e']\n",
        "random.shuffle(abc)\n",
        "print(abc)"
      ],
      "metadata": {
        "colab": {
          "base_uri": "https://localhost:8080/"
        },
        "id": "fB8TwCMS4YnF",
        "outputId": "59e7ced5-fd85-46f1-b412-acd4ee3d9d1c"
      },
      "execution_count": 21,
      "outputs": [
        {
          "output_type": "stream",
          "name": "stdout",
          "text": [
            "['a', 'e', 'c', 'd', 'b']\n"
          ]
        }
      ]
    },
    {
      "cell_type": "code",
      "source": [
        "color = ['빨간', '주홍', '노랑', '초록', '파랑', '남색', '보라']\n",
        "food = ['떡볶이', '바나나', '오뎅', '새우깡', '홍합탕', '스테이크', '삼겹살', '가지덮밥']\n",
        "band_name = random.choice(color) + \" \" + random.choice(food)\n",
        "print(band_name)"
      ],
      "metadata": {
        "colab": {
          "base_uri": "https://localhost:8080/"
        },
        "id": "bUKBBmGW4g_W",
        "outputId": "5d0d137e-9bd0-4a0c-9d72-34b61a28fda0"
      },
      "execution_count": 28,
      "outputs": [
        {
          "output_type": "stream",
          "name": "stdout",
          "text": [
            "주홍 새우깡\n"
          ]
        }
      ]
    },
    {
      "cell_type": "code",
      "source": [
        "# 날짜와 시간을 직접 지정하여 datetime 객체를 생성하는 방법\n",
        "from datetime import datetime\n",
        "specific_datetime = datetime(2024, 2, 27, 12, 30)\n",
        "print(specific_datetime)"
      ],
      "metadata": {
        "colab": {
          "base_uri": "https://localhost:8080/"
        },
        "id": "rhyJjpVi6EZL",
        "outputId": "8a31d4fe-f9ba-4a2b-d1eb-ca1b222c62a9"
      },
      "execution_count": 29,
      "outputs": [
        {
          "output_type": "stream",
          "name": "stdout",
          "text": [
            "2024-02-27 12:30:00\n"
          ]
        }
      ]
    },
    {
      "cell_type": "code",
      "source": [
        "# 두 날짜/시간 사이의 차이를 계산하는 방법\n",
        "datetime1 = datetime(2024, 2, 27)\n",
        "datetime2 = datetime(2024, 3, 5)\n",
        "difference = datetime2 - datetime1\n",
        "print(difference)"
      ],
      "metadata": {
        "colab": {
          "base_uri": "https://localhost:8080/"
        },
        "id": "Um90MAzd7_3s",
        "outputId": "fa0e4c5d-ef89-4088-d5af-c4320eb226de"
      },
      "execution_count": 30,
      "outputs": [
        {
          "output_type": "stream",
          "name": "stdout",
          "text": [
            "7 days, 0:00:00\n"
          ]
        }
      ]
    },
    {
      "cell_type": "code",
      "source": [
        "# 다양한 형식으로 날짜와 시간을 문자열로 변환하는 방법\n",
        "current_datetime = datetime.now()\n",
        "formatted_date = current_datetime.strftime(\"%B %d, %Y\")\n",
        "print(formatted_date)"
      ],
      "metadata": {
        "colab": {
          "base_uri": "https://localhost:8080/"
        },
        "id": "MmJHCSkt8LyG",
        "outputId": "10fb78f8-9c46-4fbe-d6d0-be3969897f2f"
      },
      "execution_count": 32,
      "outputs": [
        {
          "output_type": "stream",
          "name": "stdout",
          "text": [
            "August 19, 2024\n"
          ]
        }
      ]
    },
    {
      "cell_type": "code",
      "source": [
        "# 문자열에서 날짜와 시간을 datetime 객체로 변환하는 방법\n",
        "date_string = \"27 February, 2024\"\n",
        "datetime_object = datetime.strptime(date_string, \"%d %B, %Y\")\n",
        "print(datetime_object)"
      ],
      "metadata": {
        "colab": {
          "base_uri": "https://localhost:8080/"
        },
        "id": "i2_iapbf8bVx",
        "outputId": "88b650d1-87ba-481a-a538-db80f1857eb7"
      },
      "execution_count": 33,
      "outputs": [
        {
          "output_type": "stream",
          "name": "stdout",
          "text": [
            "2024-02-27 00:00:00\n"
          ]
        }
      ]
    },
    {
      "cell_type": "code",
      "source": [
        "# 시스템의 현재 시간대를 반영한 날짜와 시간을 가져오는 방법\n",
        "import pytz\n",
        "timezone = pytz.timezone('Asia/Seoul')\n",
        "localized_datetime = datetime.now(timezone)\n",
        "print(localized_datetime)"
      ],
      "metadata": {
        "colab": {
          "base_uri": "https://localhost:8080/"
        },
        "id": "E2dz2RbA8qYf",
        "outputId": "10267368-05b2-48af-a7d9-0bfc8c48343b"
      },
      "execution_count": 35,
      "outputs": [
        {
          "output_type": "stream",
          "name": "stdout",
          "text": [
            "2024-08-19 13:44:37.409023+09:00\n"
          ]
        }
      ]
    },
    {
      "cell_type": "code",
      "source": [
        "# 현재 날짜와 시각을 \"yyyy-mm-dd HH:MM:ss\" 형식으로 출력\n",
        "current_datetime2 = datetime.now().strftime(\"%Y-%m-%d %H:%M:%S\")\n",
        "print(current_datetime2)"
      ],
      "metadata": {
        "colab": {
          "base_uri": "https://localhost:8080/"
        },
        "id": "bUiZEmQd81b8",
        "outputId": "91420d06-5562-469f-8de0-370dc357dd87"
      },
      "execution_count": 40,
      "outputs": [
        {
          "output_type": "stream",
          "name": "stdout",
          "text": [
            "2024-08-19 04:46:07\n"
          ]
        }
      ]
    },
    {
      "cell_type": "code",
      "source": [
        "# titmedelta를 사용하여 날짜에 일, 시간, 분, 초를 더하거나 뺴는 방법\n",
        "from datetime import datetime, timedelta\n",
        "current_datetime3 = datetime.now()\n",
        "one_week_later = current_datetime3 + timedelta(days=7)\n",
        "print(one_week_later)"
      ],
      "metadata": {
        "colab": {
          "base_uri": "https://localhost:8080/"
        },
        "id": "YZ5kpOdY9GmA",
        "outputId": "edc6090f-ad0b-4714-b423-3d057436dd98"
      },
      "execution_count": 41,
      "outputs": [
        {
          "output_type": "stream",
          "name": "stdout",
          "text": [
            "2024-08-26 04:47:13.345031\n"
          ]
        }
      ]
    },
    {
      "cell_type": "code",
      "source": [
        "# 이터러블 객체와 이터레이터 객체\n",
        "class MyIterator:\n",
        "    def __next__(self):\n",
        "        return 1\n",
        "\n",
        "class MyIterable:\n",
        "    def __iter__(self):\n",
        "        obj = MyIterator()\n",
        "        return obj"
      ],
      "metadata": {
        "id": "VZZQvVWi9ewi"
      },
      "execution_count": 42,
      "outputs": []
    },
    {
      "cell_type": "code",
      "source": [
        "m = MyIterable()\n",
        "r = iter(m)\n",
        "print(next(r))"
      ],
      "metadata": {
        "colab": {
          "base_uri": "https://localhost:8080/"
        },
        "id": "qWg8oh6eD0bi",
        "outputId": "3cb2370c-9a9f-423f-fa0f-2a5c7fb91a72"
      },
      "execution_count": 43,
      "outputs": [
        {
          "output_type": "stream",
          "name": "stdout",
          "text": [
            "1\n"
          ]
        }
      ]
    },
    {
      "cell_type": "code",
      "source": [
        "class Season:\n",
        "    def __init__(self):\n",
        "        self.data = [\"봄\", \"여름\", \"가을\", \"겨울\"]\n",
        "        self.index = 0\n",
        "\n",
        "    def __iter__(self):\n",
        "        return self             # 자기 자신이 iterator 이므로 자기 자신을 리턴\n",
        "\n",
        "    def __next__(self):\n",
        "        if self.index < len(self.data):\n",
        "            cur_season = self.data[self.index]\n",
        "            self.index += 1\n",
        "            return cur_season\n",
        "        else:\n",
        "            raise StopIteration"
      ],
      "metadata": {
        "id": "fyeRGYHcD5hJ"
      },
      "execution_count": 46,
      "outputs": []
    },
    {
      "cell_type": "code",
      "source": [
        "s = Season()\n",
        "for i in s:\n",
        "    print(i)"
      ],
      "metadata": {
        "colab": {
          "base_uri": "https://localhost:8080/"
        },
        "id": "JRbzEI7cE9nz",
        "outputId": "0d128d53-6038-4206-bd79-05a067f11985"
      },
      "execution_count": 47,
      "outputs": [
        {
          "output_type": "stream",
          "name": "stdout",
          "text": [
            "봄\n",
            "여름\n",
            "가을\n",
            "겨울\n"
          ]
        }
      ]
    },
    {
      "cell_type": "code",
      "source": [
        "target = [1, 2, 3, 4]\n",
        "\n",
        "def add_1(n):\n",
        "    return n + 1\n",
        "\n",
        "result = map(add_1, target)\n",
        "print(list(result))"
      ],
      "metadata": {
        "colab": {
          "base_uri": "https://localhost:8080/"
        },
        "id": "lAl1pGHEFDGS",
        "outputId": "26474941-0001-49bc-e7b6-02ff548d2040"
      },
      "execution_count": 49,
      "outputs": [
        {
          "output_type": "stream",
          "name": "stdout",
          "text": [
            "[2, 3, 4, 5]\n"
          ]
        }
      ]
    },
    {
      "cell_type": "code",
      "source": [
        "result2 = map(lambda x : x + 5, target)\n",
        "print(list(result2))"
      ],
      "metadata": {
        "colab": {
          "base_uri": "https://localhost:8080/"
        },
        "id": "6NSyFr3hF4TZ",
        "outputId": "0f6e9c4c-6c9c-4ecf-ac80-bd50ca618ffe"
      },
      "execution_count": 51,
      "outputs": [
        {
          "output_type": "stream",
          "name": "stdout",
          "text": [
            "[6, 7, 8, 9]\n"
          ]
        }
      ]
    },
    {
      "cell_type": "code",
      "source": [
        "str_result = map(str, target)\n",
        "print(list(str_result))"
      ],
      "metadata": {
        "colab": {
          "base_uri": "https://localhost:8080/"
        },
        "id": "8pvAryH3GEa_",
        "outputId": "f11326ce-d2f1-41dc-9517-6caf1de7bb21"
      },
      "execution_count": 54,
      "outputs": [
        {
          "output_type": "stream",
          "name": "stdout",
          "text": [
            "['1', '2', '3', '4']\n"
          ]
        }
      ]
    },
    {
      "cell_type": "code",
      "source": [
        "def is_even(n):\n",
        "    return True if n % 2 == 0 else False\n",
        "\n",
        "target2 = [1, 2, 3, 4, 5, 6, 7, 8, 9, 10]\n",
        "filter_result = filter(is_even, target2)\n",
        "print(list(filter_result))"
      ],
      "metadata": {
        "colab": {
          "base_uri": "https://localhost:8080/"
        },
        "id": "IYl6S-rlGONp",
        "outputId": "5c4cf716-6dfc-4f26-939b-a52d0d46bb6d"
      },
      "execution_count": 57,
      "outputs": [
        {
          "output_type": "stream",
          "name": "stdout",
          "text": [
            "[2, 4, 6, 8, 10]\n"
          ]
        }
      ]
    },
    {
      "cell_type": "code",
      "source": [
        "filter_result2 = filter(lambda x: x % 2 == 1, target2)\n",
        "print(list(filter_result2))"
      ],
      "metadata": {
        "colab": {
          "base_uri": "https://localhost:8080/"
        },
        "id": "A1KvMf0rGzEy",
        "outputId": "7fb24592-c8e9-4cf3-8c28-1578297844b9"
      },
      "execution_count": 60,
      "outputs": [
        {
          "output_type": "stream",
          "name": "stdout",
          "text": [
            "[1, 3, 5, 7, 9]\n"
          ]
        }
      ]
    },
    {
      "cell_type": "code",
      "source": [
        "# 제너레이터\n",
        "def num_gen():\n",
        "    for i in range(3):\n",
        "        yield i\n",
        "\n",
        "g = num_gen()\n",
        "num1 = next(g)\n",
        "num2 = next(g)\n",
        "num3 = next(g)\n",
        "\n",
        "print(num1, num2, num3)\n",
        "\n",
        "print(g, type(g))"
      ],
      "metadata": {
        "colab": {
          "base_uri": "https://localhost:8080/"
        },
        "id": "wJm65wazHAPc",
        "outputId": "fa932c1d-705b-480e-aad7-76e73f57d0b1"
      },
      "execution_count": 62,
      "outputs": [
        {
          "output_type": "stream",
          "name": "stdout",
          "text": [
            "0 1 2\n",
            "<generator object num_gen at 0x7889b0cb4040> <class 'generator'>\n"
          ]
        }
      ]
    },
    {
      "cell_type": "code",
      "source": [
        "# next() 함수를 사용하면 범위를 벗어날 경우 에러 발생\n",
        "# 이에 따라 for문을 사용\n",
        "g = num_gen()\n",
        "\n",
        "for i in g:\n",
        "    print(i)"
      ],
      "metadata": {
        "colab": {
          "base_uri": "https://localhost:8080/"
        },
        "id": "L9342sz9JCFY",
        "outputId": "3525cffd-10f6-467e-adfe-cc124c5edbbf"
      },
      "execution_count": 65,
      "outputs": [
        {
          "output_type": "stream",
          "name": "stdout",
          "text": [
            "0\n",
            "1\n",
            "2\n"
          ]
        }
      ]
    },
    {
      "cell_type": "code",
      "source": [],
      "metadata": {
        "id": "YKHgrbe9Jjt1"
      },
      "execution_count": null,
      "outputs": []
    }
  ]
}