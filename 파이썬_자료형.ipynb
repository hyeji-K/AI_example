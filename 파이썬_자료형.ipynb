{
  "nbformat": 4,
  "nbformat_minor": 0,
  "metadata": {
    "colab": {
      "provenance": [],
      "mount_file_id": "1jDZQ0gaXZswBIfYO9WY-dVndQvAtl1Vs",
      "authorship_tag": "ABX9TyMkISvqa5/0OnHKWXfLVd/2",
      "include_colab_link": true
    },
    "kernelspec": {
      "name": "python3",
      "display_name": "Python 3"
    },
    "language_info": {
      "name": "python"
    }
  },
  "cells": [
    {
      "cell_type": "markdown",
      "metadata": {
        "id": "view-in-github",
        "colab_type": "text"
      },
      "source": [
        "<a href=\"https://colab.research.google.com/github/hyeji-K/AI_example/blob/main/%ED%8C%8C%EC%9D%B4%EC%8D%AC_%EC%9E%90%EB%A3%8C%ED%98%95.ipynb\" target=\"_parent\"><img src=\"https://colab.research.google.com/assets/colab-badge.svg\" alt=\"Open In Colab\"/></a>"
      ]
    },
    {
      "cell_type": "code",
      "execution_count": 1,
      "metadata": {
        "colab": {
          "base_uri": "https://localhost:8080/"
        },
        "id": "qDU5vO-Gxd1j",
        "outputId": "c5454902-f85c-4663-ca67-7b4765325257"
      },
      "outputs": [
        {
          "output_type": "execute_result",
          "data": {
            "text/plain": [
              "17"
            ]
          },
          "metadata": {},
          "execution_count": 1
        }
      ],
      "source": [
        "a = \"Life is too short\"\n",
        "len(a)"
      ]
    },
    {
      "cell_type": "code",
      "source": [
        "a[5]"
      ],
      "metadata": {
        "colab": {
          "base_uri": "https://localhost:8080/",
          "height": 36
        },
        "id": "FSVHqEhMxu4r",
        "outputId": "06914184-ce47-445c-83ca-0874b9579043"
      },
      "execution_count": 3,
      "outputs": [
        {
          "output_type": "execute_result",
          "data": {
            "text/plain": [
              "'i'"
            ],
            "application/vnd.google.colaboratory.intrinsic+json": {
              "type": "string"
            }
          },
          "metadata": {},
          "execution_count": 3
        }
      ]
    },
    {
      "cell_type": "code",
      "source": [
        "\"{{ and }}\".format()"
      ],
      "metadata": {
        "colab": {
          "base_uri": "https://localhost:8080/",
          "height": 36
        },
        "id": "IGvPMoHMx1rM",
        "outputId": "5ea40347-fcc0-4fac-87f2-732e198d4e95"
      },
      "execution_count": 4,
      "outputs": [
        {
          "output_type": "execute_result",
          "data": {
            "text/plain": [
              "'{ and }'"
            ],
            "application/vnd.google.colaboratory.intrinsic+json": {
              "type": "string"
            }
          },
          "metadata": {},
          "execution_count": 4
        }
      ]
    },
    {
      "cell_type": "code",
      "source": [
        "name = \"고양이\"\n",
        "age = 6\n",
        "f'{name}는 {age}살 입니다.'"
      ],
      "metadata": {
        "colab": {
          "base_uri": "https://localhost:8080/",
          "height": 36
        },
        "id": "TAiLMuHV06OR",
        "outputId": "6cec2877-10cb-49d9-bcbf-afe8d9305cbb"
      },
      "execution_count": 7,
      "outputs": [
        {
          "output_type": "execute_result",
          "data": {
            "text/plain": [
              "'고양이는 6살 입니다.'"
            ],
            "application/vnd.google.colaboratory.intrinsic+json": {
              "type": "string"
            }
          },
          "metadata": {},
          "execution_count": 7
        }
      ]
    },
    {
      "cell_type": "code",
      "source": [
        "f'{name}는 내년이면 {age + 1}살이 된다.'"
      ],
      "metadata": {
        "colab": {
          "base_uri": "https://localhost:8080/",
          "height": 36
        },
        "id": "__CGssnk1XUV",
        "outputId": "1c36941b-0ef0-4d02-9ac3-b9fad6ded1de"
      },
      "execution_count": 8,
      "outputs": [
        {
          "output_type": "execute_result",
          "data": {
            "text/plain": [
              "'고양이는 내년이면 7살이 된다.'"
            ],
            "application/vnd.google.colaboratory.intrinsic+json": {
              "type": "string"
            }
          },
          "metadata": {},
          "execution_count": 8
        }
      ]
    },
    {
      "cell_type": "code",
      "source": [
        "student_scores = {\"Alice\": 85, \"Bob\": 92, \"Charlie\": 78, \"David\": 90}"
      ],
      "metadata": {
        "id": "SqbIcoRP1ila"
      },
      "execution_count": 9,
      "outputs": []
    },
    {
      "cell_type": "code",
      "source": [
        "# 모든 학생의 이름과 점수를 출력하는 코드\n",
        "for name, score in student_scores.items():\n",
        "    print(f'{name} 학생은 점수가 {score}점입니다.')"
      ],
      "metadata": {
        "colab": {
          "base_uri": "https://localhost:8080/"
        },
        "id": "7jwiX-6jMp0e",
        "outputId": "8b65412d-099b-45ee-d35c-8658a6209efa"
      },
      "execution_count": 16,
      "outputs": [
        {
          "output_type": "stream",
          "name": "stdout",
          "text": [
            "Alice 학생은 점수가 85점입니다.\n",
            "Bob 학생은 점수가 92점입니다.\n",
            "Charlie 학생은 점수가 78점입니다.\n",
            "David 학생은 점수가 90점입니다.\n"
          ]
        }
      ]
    },
    {
      "cell_type": "code",
      "source": [
        "# Eve라는 학생의 점수를 88로 추가하세요\n",
        "student_scores[\"Eve\"] = 88\n",
        "print(student_scores)"
      ],
      "metadata": {
        "colab": {
          "base_uri": "https://localhost:8080/"
        },
        "id": "-4c1E9QXMsAY",
        "outputId": "882378a9-18bb-40fd-e31e-6becec566436"
      },
      "execution_count": 19,
      "outputs": [
        {
          "output_type": "stream",
          "name": "stdout",
          "text": [
            "{'Alice': 85, 'Bob': 92, 'Charlie': 78, 'David': 90, 'Eve': 88}\n"
          ]
        }
      ]
    },
    {
      "cell_type": "code",
      "source": [
        "# Bob의 점수를 95로 수정하세요\n",
        "student_scores[\"Bob\"] = 95\n",
        "print(student_scores)"
      ],
      "metadata": {
        "colab": {
          "base_uri": "https://localhost:8080/"
        },
        "id": "dvQG4tWXN5OZ",
        "outputId": "28500750-29e6-4989-e501-c7546c2945be"
      },
      "execution_count": 20,
      "outputs": [
        {
          "output_type": "stream",
          "name": "stdout",
          "text": [
            "{'Alice': 85, 'Bob': 95, 'Charlie': 78, 'David': 90, 'Eve': 88}\n"
          ]
        }
      ]
    },
    {
      "cell_type": "code",
      "source": [
        "# Charlie의 항목을 딕셔너리에서 삭제하세요\n",
        "del student_scores[\"Charlie\"]\n",
        "print(student_scores)"
      ],
      "metadata": {
        "colab": {
          "base_uri": "https://localhost:8080/"
        },
        "id": "Ovag7LG_OIdk",
        "outputId": "a56dea6e-b63e-4135-89ea-9eed4f763a93"
      },
      "execution_count": 22,
      "outputs": [
        {
          "output_type": "stream",
          "name": "stdout",
          "text": [
            "{'Alice': 85, 'Bob': 95, 'David': 90, 'Eve': 88}\n"
          ]
        }
      ]
    },
    {
      "cell_type": "code",
      "source": [
        "# 모든 학생의 점수의 합계를 계산하세요\n",
        "sum = 0\n",
        "for value in student_scores.values():\n",
        "    sum += value\n",
        "print(sum)"
      ],
      "metadata": {
        "colab": {
          "base_uri": "https://localhost:8080/"
        },
        "id": "-SFn5VpDOMxe",
        "outputId": "fb237c88-df7c-405a-caea-a92c5290640f"
      },
      "execution_count": 25,
      "outputs": [
        {
          "output_type": "stream",
          "name": "stdout",
          "text": [
            "358\n"
          ]
        }
      ]
    },
    {
      "cell_type": "code",
      "source": [
        "numbers = [3, 8, 1, 6, 0, 8, 4, 10, 12, 8, 2]"
      ],
      "metadata": {
        "id": "18V2tXKMO_LT"
      },
      "execution_count": 26,
      "outputs": []
    },
    {
      "cell_type": "code",
      "source": [
        "# 이 리스트에서 중복된 요소를 제거하고 고유한 요소만으로 이루어진 리스트를 만드세요\n",
        "result = list(set(numbers))\n",
        "print(result)"
      ],
      "metadata": {
        "colab": {
          "base_uri": "https://localhost:8080/"
        },
        "id": "_Z3mVx0BPmz1",
        "outputId": "5a503ed4-5281-4f3f-ad12-e00792b358fb"
      },
      "execution_count": 27,
      "outputs": [
        {
          "output_type": "stream",
          "name": "stdout",
          "text": [
            "[0, 1, 2, 3, 4, 6, 8, 10, 12]\n"
          ]
        }
      ]
    },
    {
      "cell_type": "code",
      "source": [
        "# 리스트에서 짝수만 추출하여 새로운 리스트를 만드세요\n",
        "b = []\n",
        "for i in result:\n",
        "    if i % 2 == 0:\n",
        "        b.append(i)\n",
        "print(b)"
      ],
      "metadata": {
        "colab": {
          "base_uri": "https://localhost:8080/"
        },
        "id": "TDl8dtY-RHYf",
        "outputId": "1fab99f2-e322-4246-c562-2929620cf01c"
      },
      "execution_count": 28,
      "outputs": [
        {
          "output_type": "stream",
          "name": "stdout",
          "text": [
            "[0, 2, 4, 6, 8, 10, 12]\n"
          ]
        }
      ]
    },
    {
      "cell_type": "code",
      "source": [
        "# 리스트의 요소 중 최대값과 최소값의 차이를 구하세요\n",
        "b[-1] - b[0]"
      ],
      "metadata": {
        "colab": {
          "base_uri": "https://localhost:8080/"
        },
        "id": "Z9_t3R2fRf5S",
        "outputId": "3f912351-db1f-4236-d048-1d5a073211b4"
      },
      "execution_count": 34,
      "outputs": [
        {
          "output_type": "execute_result",
          "data": {
            "text/plain": [
              "12"
            ]
          },
          "metadata": {},
          "execution_count": 34
        }
      ]
    },
    {
      "cell_type": "code",
      "source": [
        "result = [i for i in range(1, 21) if i % 2 == 0]\n",
        "print(result)"
      ],
      "metadata": {
        "colab": {
          "base_uri": "https://localhost:8080/"
        },
        "id": "RoOnWna2Rp4N",
        "outputId": "d02167fd-2fa1-472a-ffac-1a770f3d5576"
      },
      "execution_count": 41,
      "outputs": [
        {
          "output_type": "stream",
          "name": "stdout",
          "text": [
            "[2, 4, 6, 8, 10, 12, 14, 16, 18, 20]\n"
          ]
        }
      ]
    },
    {
      "cell_type": "code",
      "source": [
        "text = \"Hello, Python! Welcome to the world of programming.\"\n",
        "text[15:35]"
      ],
      "metadata": {
        "colab": {
          "base_uri": "https://localhost:8080/",
          "height": 36
        },
        "id": "4_PHbsFsUaSl",
        "outputId": "7c422815-3628-4f59-dbff-f93853cd54ce"
      },
      "execution_count": 49,
      "outputs": [
        {
          "output_type": "execute_result",
          "data": {
            "text/plain": [
              "'Welcome to the world'"
            ],
            "application/vnd.google.colaboratory.intrinsic+json": {
              "type": "string"
            }
          },
          "metadata": {},
          "execution_count": 49
        }
      ]
    },
    {
      "cell_type": "code",
      "source": [
        "text[7:13] + text[39:]"
      ],
      "metadata": {
        "colab": {
          "base_uri": "https://localhost:8080/",
          "height": 36
        },
        "id": "FMha_BtAWYgq",
        "outputId": "b13e7aaa-0775-4b33-e505-1f40027b29ab"
      },
      "execution_count": 57,
      "outputs": [
        {
          "output_type": "execute_result",
          "data": {
            "text/plain": [
              "'Pythonprogramming.'"
            ],
            "application/vnd.google.colaboratory.intrinsic+json": {
              "type": "string"
            }
          },
          "metadata": {},
          "execution_count": 57
        }
      ]
    },
    {
      "cell_type": "code",
      "source": [
        "data = 3\n",
        "fmt = f\"{{ {data} }}\"\n",
        "print(fmt)"
      ],
      "metadata": {
        "colab": {
          "base_uri": "https://localhost:8080/"
        },
        "id": "S9f6WRIKas1z",
        "outputId": "ad85e0c0-ad97-488f-8df2-02f19184d7dd"
      },
      "execution_count": 67,
      "outputs": [
        {
          "output_type": "stream",
          "name": "stdout",
          "text": [
            "{ 3 }\n"
          ]
        }
      ]
    },
    {
      "cell_type": "code",
      "source": [
        "a = 3\n",
        "mystr = f\"{a:02d}\"\n",
        "print(mystr)"
      ],
      "metadata": {
        "colab": {
          "base_uri": "https://localhost:8080/"
        },
        "id": "YWPymAb4ewZ-",
        "outputId": "ad4b9f19-b2aa-43c7-83f6-7674ad46647e"
      },
      "execution_count": 69,
      "outputs": [
        {
          "output_type": "stream",
          "name": "stdout",
          "text": [
            "03\n"
          ]
        }
      ]
    },
    {
      "cell_type": "code",
      "source": [
        "symbol = \"BTCUSDT\"\n",
        "print(f\"{symbol:10}\")"
      ],
      "metadata": {
        "colab": {
          "base_uri": "https://localhost:8080/"
        },
        "id": "gHBmS_nxe_9P",
        "outputId": "8266d527-3dc4-412a-dc65-1891eeb1f9bc"
      },
      "execution_count": 71,
      "outputs": [
        {
          "output_type": "stream",
          "name": "stdout",
          "text": [
            "BTCUSDT   \n"
          ]
        }
      ]
    },
    {
      "cell_type": "code",
      "source": [
        "a = 1, 2\n",
        "b = (1, 2)\n",
        "\n",
        "print(a, type(a))\n",
        "print(b, type(b))"
      ],
      "metadata": {
        "colab": {
          "base_uri": "https://localhost:8080/"
        },
        "id": "aFQgyGz1fJIh",
        "outputId": "a5fa4715-36b4-4151-a6ea-16461a67100c"
      },
      "execution_count": 72,
      "outputs": [
        {
          "output_type": "stream",
          "name": "stdout",
          "text": [
            "(1, 2) <class 'tuple'>\n",
            "(1, 2) <class 'tuple'>\n"
          ]
        }
      ]
    },
    {
      "cell_type": "code",
      "source": [
        "data = (1, 2, 3)\n",
        "n1, n2, n3 = data\n",
        "print(n1, n2, n3)"
      ],
      "metadata": {
        "colab": {
          "base_uri": "https://localhost:8080/"
        },
        "id": "TaMTEVaZhhjE",
        "outputId": "af900722-85f1-4592-85ce-1c004a95fb64"
      },
      "execution_count": 73,
      "outputs": [
        {
          "output_type": "stream",
          "name": "stdout",
          "text": [
            "1 2 3\n"
          ]
        }
      ]
    },
    {
      "cell_type": "code",
      "source": [
        "scores = (1, 2, 3, 4, 5, 6)\n",
        "low, *others, high = scores\n",
        "print(low, others, high)"
      ],
      "metadata": {
        "colab": {
          "base_uri": "https://localhost:8080/"
        },
        "id": "oUlJJpb9jHO8",
        "outputId": "118b8114-cc13-4cb4-ec2d-35a3d12025dd"
      },
      "execution_count": 76,
      "outputs": [
        {
          "output_type": "stream",
          "name": "stdout",
          "text": [
            "1 [2, 3, 4, 5] 6\n"
          ]
        }
      ]
    },
    {
      "cell_type": "code",
      "source": [
        "def foo():\n",
        "    return 1, 2, 3"
      ],
      "metadata": {
        "id": "I4XdQhyZjkbi"
      },
      "execution_count": 77,
      "outputs": []
    },
    {
      "cell_type": "code",
      "source": [
        "val = foo()\n",
        "print(type(val))\n",
        "print(val)"
      ],
      "metadata": {
        "colab": {
          "base_uri": "https://localhost:8080/"
        },
        "id": "6Q8ZfhMzkAHP",
        "outputId": "ee8540df-e382-455b-f64d-09c2ba98b529"
      },
      "execution_count": 79,
      "outputs": [
        {
          "output_type": "stream",
          "name": "stdout",
          "text": [
            "<class 'tuple'>\n",
            "(1, 2, 3)\n"
          ]
        }
      ]
    },
    {
      "cell_type": "code",
      "source": [
        "def sum(num1, num2, num3, num4):\n",
        "    return num1+num2+num3+num4\n",
        "\n",
        "scores = (1, 2, 3, 4)\n",
        "result = sum(*scores)\n",
        "print(result)"
      ],
      "metadata": {
        "colab": {
          "base_uri": "https://localhost:8080/"
        },
        "id": "9Ztqk-H-kCj0",
        "outputId": "ff87adf5-3ac4-412b-fd65-951f0dcffffb"
      },
      "execution_count": 80,
      "outputs": [
        {
          "output_type": "stream",
          "name": "stdout",
          "text": [
            "10\n"
          ]
        }
      ]
    },
    {
      "cell_type": "code",
      "source": [
        "name = ['merona', 'gugucon']\n",
        "price = [500, 1000]\n",
        "\n",
        "# z = zip(name, price)\n",
        "# print(list(z))\n",
        "icecream = {k:v for k, v in zip(name, price)}\n",
        "print(icecream)"
      ],
      "metadata": {
        "colab": {
          "base_uri": "https://localhost:8080/"
        },
        "id": "44AuMrp8kjv3",
        "outputId": "4ca62838-235d-462a-e10d-e6c8fadc8466"
      },
      "execution_count": 88,
      "outputs": [
        {
          "output_type": "stream",
          "name": "stdout",
          "text": [
            "{'merona': 500, 'gugucon': 1000}\n"
          ]
        }
      ]
    },
    {
      "cell_type": "code",
      "source": [
        "for n, p in zip(name, price):\n",
        "    print(n, p)"
      ],
      "metadata": {
        "colab": {
          "base_uri": "https://localhost:8080/"
        },
        "id": "oZ2S75Bhk8cN",
        "outputId": "1a1a627b-77bd-4403-c139-e0f348546db2"
      },
      "execution_count": 83,
      "outputs": [
        {
          "output_type": "stream",
          "name": "stdout",
          "text": [
            "merona 500\n",
            "gugucon 1000\n"
          ]
        }
      ]
    },
    {
      "cell_type": "code",
      "source": [
        "data = {}\n",
        "\n",
        "ret = data.setdefault('a', 0)\n",
        "print(ret, data)"
      ],
      "metadata": {
        "colab": {
          "base_uri": "https://localhost:8080/"
        },
        "id": "ZSJi01uglRH6",
        "outputId": "f020a23a-f723-44a9-8622-6284ddc43f0f"
      },
      "execution_count": 84,
      "outputs": [
        {
          "output_type": "stream",
          "name": "stdout",
          "text": [
            "0 {'a': 0}\n"
          ]
        }
      ]
    },
    {
      "cell_type": "code",
      "source": [
        "data['b'] = 9\n",
        "print(data)"
      ],
      "metadata": {
        "colab": {
          "base_uri": "https://localhost:8080/"
        },
        "id": "XZ0B3uqZncwD",
        "outputId": "c604ba71-5bef-46b2-d3ff-35e18a742b48"
      },
      "execution_count": 85,
      "outputs": [
        {
          "output_type": "stream",
          "name": "stdout",
          "text": [
            "{'a': 0, 'b': 9}\n"
          ]
        }
      ]
    },
    {
      "cell_type": "code",
      "source": [
        "ret = data.setdefault('a', 1)\n",
        "print(ret, data)"
      ],
      "metadata": {
        "colab": {
          "base_uri": "https://localhost:8080/"
        },
        "id": "V2fxQWv6npZA",
        "outputId": "5bc763f6-26f5-42b3-8c16-572d444f4ab5"
      },
      "execution_count": 86,
      "outputs": [
        {
          "output_type": "stream",
          "name": "stdout",
          "text": [
            "0 {'a': 0, 'b': 9}\n"
          ]
        }
      ]
    },
    {
      "cell_type": "code",
      "source": [
        "data['b'] = 8\n",
        "print(data)"
      ],
      "metadata": {
        "colab": {
          "base_uri": "https://localhost:8080/"
        },
        "id": "kja_jEOwnuU_",
        "outputId": "704fc362-8f37-4614-d736-8053d79f0f3c"
      },
      "execution_count": 87,
      "outputs": [
        {
          "output_type": "stream",
          "name": "stdout",
          "text": [
            "{'a': 0, 'b': 8}\n"
          ]
        }
      ]
    },
    {
      "cell_type": "code",
      "source": [
        "from collections import namedtuple\n",
        "\n",
        "Book = namedtuple('Book', ['title', 'price'])\n",
        "mybook = Book(\"파이썬을 이용한 비트코인 자동매매\", 27000)\n",
        "print(mybook.title)\n",
        "print(mybook.price)"
      ],
      "metadata": {
        "colab": {
          "base_uri": "https://localhost:8080/"
        },
        "id": "mIJkmaMCnw_A",
        "outputId": "332194fe-9dde-494d-8857-99ca95687bac"
      },
      "execution_count": 90,
      "outputs": [
        {
          "output_type": "stream",
          "name": "stdout",
          "text": [
            "파이썬을 이용한 비트코인 자동매매\n",
            "27000\n"
          ]
        }
      ]
    },
    {
      "cell_type": "code",
      "source": [
        "mybook[0]"
      ],
      "metadata": {
        "colab": {
          "base_uri": "https://localhost:8080/",
          "height": 36
        },
        "id": "jNhhTia9qExP",
        "outputId": "9f9b3ef5-d7af-421e-9b4f-22c12e7bb89d"
      },
      "execution_count": 91,
      "outputs": [
        {
          "output_type": "execute_result",
          "data": {
            "text/plain": [
              "'파이썬을 이용한 비트코인 자동매매'"
            ],
            "application/vnd.google.colaboratory.intrinsic+json": {
              "type": "string"
            }
          },
          "metadata": {},
          "execution_count": 91
        }
      ]
    },
    {
      "cell_type": "code",
      "source": [
        "def print_book(title, price):\n",
        "    print(title, price)\n",
        "\n",
        "print_book(*mybook)"
      ],
      "metadata": {
        "colab": {
          "base_uri": "https://localhost:8080/"
        },
        "id": "ky-HbpqHqYF8",
        "outputId": "f6993c11-5925-48fe-b2a2-060a044fcacf"
      },
      "execution_count": 93,
      "outputs": [
        {
          "output_type": "stream",
          "name": "stdout",
          "text": [
            "파이썬을 이용한 비트코인 자동매매 27000\n"
          ]
        }
      ]
    },
    {
      "cell_type": "code",
      "source": [],
      "metadata": {
        "id": "skXL6qeHqqFu"
      },
      "execution_count": null,
      "outputs": []
    }
  ]
}