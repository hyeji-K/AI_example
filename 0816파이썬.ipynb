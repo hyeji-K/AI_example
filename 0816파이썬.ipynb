{
  "nbformat": 4,
  "nbformat_minor": 0,
  "metadata": {
    "colab": {
      "provenance": [],
      "mount_file_id": "1iyCKY15HRtSGHW0aDyQ-yNeTkSj8yjoE",
      "authorship_tag": "ABX9TyMSLRnJfkHdPyY/EVfZopw7",
      "include_colab_link": true
    },
    "kernelspec": {
      "name": "python3",
      "display_name": "Python 3"
    },
    "language_info": {
      "name": "python"
    }
  },
  "cells": [
    {
      "cell_type": "markdown",
      "metadata": {
        "id": "view-in-github",
        "colab_type": "text"
      },
      "source": [
        "<a href=\"https://colab.research.google.com/github/hyeji-K/AI_example/blob/main/%080816%ED%8C%8C%EC%9D%B4%EC%8D%AC.ipynb\" target=\"_parent\"><img src=\"https://colab.research.google.com/assets/colab-badge.svg\" alt=\"Open In Colab\"/></a>"
      ]
    },
    {
      "cell_type": "code",
      "execution_count": 1,
      "metadata": {
        "colab": {
          "base_uri": "https://localhost:8080/"
        },
        "id": "L6_EMSG_VwcL",
        "outputId": "a12add87-fbe1-4123-e488-ea344c88a9dc"
      },
      "outputs": [
        {
          "output_type": "stream",
          "name": "stdout",
          "text": [
            "1\n",
            "2\n",
            "3\n",
            "4\n",
            "5\n",
            "6\n",
            "7\n",
            "8\n",
            "9\n",
            "10\n"
          ]
        }
      ],
      "source": [
        "for num in range(1, 11):\n",
        "    print(num)"
      ]
    },
    {
      "cell_type": "code",
      "source": [
        "if num % 2 == 0:\n",
        "    print(\"짝수입니다.\")\n",
        "else:\n",
        "    print(\"홀수입니다.\")"
      ],
      "metadata": {
        "colab": {
          "base_uri": "https://localhost:8080/"
        },
        "id": "m-xqmuFLXLy2",
        "outputId": "96cc9fe4-bca6-4299-effb-2d08e3df41ef"
      },
      "execution_count": 3,
      "outputs": [
        {
          "output_type": "stream",
          "name": "stdout",
          "text": [
            "짝수입니다.\n"
          ]
        }
      ]
    },
    {
      "cell_type": "code",
      "source": [
        "try:\n",
        "    x = 5 / 0\n",
        "except:\n",
        "    print(\"0으로 나눌 수 없습니다.\")"
      ],
      "metadata": {
        "colab": {
          "base_uri": "https://localhost:8080/"
        },
        "id": "oIxc-LS1co-5",
        "outputId": "b0cfd29f-d9c0-449e-96f1-f37bac4a4a5e"
      },
      "execution_count": 5,
      "outputs": [
        {
          "output_type": "stream",
          "name": "stdout",
          "text": [
            "0으로 나눌 수 없습니다.\n"
          ]
        }
      ]
    },
    {
      "cell_type": "code",
      "source": [
        "a = 5\n",
        "b = 6\n",
        "\n",
        "def sum(num1, num2):\n",
        "    return num1 + num2\n",
        "\n",
        "print(sum(a, b))"
      ],
      "metadata": {
        "colab": {
          "base_uri": "https://localhost:8080/"
        },
        "id": "nCulPIlRgsfB",
        "outputId": "894f5a7b-d264-4655-ee0c-c13a3020f364"
      },
      "execution_count": 6,
      "outputs": [
        {
          "output_type": "stream",
          "name": "stdout",
          "text": [
            "11\n"
          ]
        }
      ]
    },
    {
      "cell_type": "code",
      "source": [
        "def hello():\n",
        "    print(\"hello\")"
      ],
      "metadata": {
        "id": "49lVEVHNhQiE"
      },
      "execution_count": 7,
      "outputs": []
    },
    {
      "cell_type": "code",
      "source": [
        "f = hello"
      ],
      "metadata": {
        "id": "zWOxf8-Yk6Gj"
      },
      "execution_count": 8,
      "outputs": []
    },
    {
      "cell_type": "code",
      "source": [
        "f()"
      ],
      "metadata": {
        "colab": {
          "base_uri": "https://localhost:8080/"
        },
        "id": "KWXn0P0lk71F",
        "outputId": "ad77a75b-33b4-4fee-cfe2-27bb9595b8c0"
      },
      "execution_count": 9,
      "outputs": [
        {
          "output_type": "stream",
          "name": "stdout",
          "text": [
            "hello\n"
          ]
        }
      ]
    },
    {
      "cell_type": "code",
      "source": [
        "id(f)"
      ],
      "metadata": {
        "colab": {
          "base_uri": "https://localhost:8080/"
        },
        "id": "rlHYhj8Tk8Zj",
        "outputId": "84c25cdb-33ef-4f91-a1d9-5148e5de0baf"
      },
      "execution_count": 10,
      "outputs": [
        {
          "output_type": "execute_result",
          "data": {
            "text/plain": [
              "140675171186816"
            ]
          },
          "metadata": {},
          "execution_count": 10
        }
      ]
    },
    {
      "cell_type": "code",
      "source": [
        "id(hello)"
      ],
      "metadata": {
        "colab": {
          "base_uri": "https://localhost:8080/"
        },
        "id": "vHVenwivk_rg",
        "outputId": "57792c7a-c086-4569-eff7-bedcd8675642"
      },
      "execution_count": 11,
      "outputs": [
        {
          "output_type": "execute_result",
          "data": {
            "text/plain": [
              "140675171186816"
            ]
          },
          "metadata": {},
          "execution_count": 11
        }
      ]
    },
    {
      "cell_type": "code",
      "source": [
        "class Func:\n",
        "    def __call__(self):\n",
        "        print(\"호출 됨\")"
      ],
      "metadata": {
        "id": "TUZoIMSAlBBT"
      },
      "execution_count": 12,
      "outputs": []
    },
    {
      "cell_type": "code",
      "source": [
        "f = Func()"
      ],
      "metadata": {
        "id": "rbQjhRfGleUV"
      },
      "execution_count": 13,
      "outputs": []
    },
    {
      "cell_type": "code",
      "source": [
        "f()"
      ],
      "metadata": {
        "colab": {
          "base_uri": "https://localhost:8080/"
        },
        "id": "31yM6WfDlfqH",
        "outputId": "7b104c65-d817-4494-db5a-44e5bc4bbeae"
      },
      "execution_count": 14,
      "outputs": [
        {
          "output_type": "stream",
          "name": "stdout",
          "text": [
            "호출 됨\n"
          ]
        }
      ]
    },
    {
      "cell_type": "code",
      "source": [
        "Func()"
      ],
      "metadata": {
        "colab": {
          "base_uri": "https://localhost:8080/"
        },
        "id": "3uRV4bimlgc-",
        "outputId": "cea98728-6cef-410f-f555-1871129068a4"
      },
      "execution_count": 15,
      "outputs": [
        {
          "output_type": "execute_result",
          "data": {
            "text/plain": [
              "<__main__.Func at 0x7ff17d9b9060>"
            ]
          },
          "metadata": {},
          "execution_count": 15
        }
      ]
    },
    {
      "cell_type": "code",
      "source": [
        "def print_number(a, b, c):\n",
        "    print(a, b, c)"
      ],
      "metadata": {
        "id": "R1FtjjH6liFk"
      },
      "execution_count": 16,
      "outputs": []
    },
    {
      "cell_type": "code",
      "source": [
        "print_number(*(7, 8, 9))"
      ],
      "metadata": {
        "colab": {
          "base_uri": "https://localhost:8080/"
        },
        "id": "EgS4D9uhmUXq",
        "outputId": "b37dead6-3105-4ca8-dc23-358a1978c4b4"
      },
      "execution_count": 17,
      "outputs": [
        {
          "output_type": "stream",
          "name": "stdout",
          "text": [
            "7 8 9\n"
          ]
        }
      ]
    },
    {
      "cell_type": "code",
      "source": [
        "def foo(*args):\n",
        "    print(args)"
      ],
      "metadata": {
        "id": "ru3RcP4MmXpn"
      },
      "execution_count": 18,
      "outputs": []
    },
    {
      "cell_type": "code",
      "source": [
        "foo(1, 2, \"3\")"
      ],
      "metadata": {
        "colab": {
          "base_uri": "https://localhost:8080/"
        },
        "id": "-KntMPzLnFcL",
        "outputId": "90f38aef-4522-4289-e489-c9373f499ab8"
      },
      "execution_count": 19,
      "outputs": [
        {
          "output_type": "stream",
          "name": "stdout",
          "text": [
            "(1, 2, '3')\n"
          ]
        }
      ]
    },
    {
      "cell_type": "code",
      "source": [
        "print_number(4, \"5\", 6)"
      ],
      "metadata": {
        "colab": {
          "base_uri": "https://localhost:8080/"
        },
        "id": "qqAOL5yYnG7H",
        "outputId": "b1fd9c9a-b29c-467c-901b-1c868592fea5"
      },
      "execution_count": 20,
      "outputs": [
        {
          "output_type": "stream",
          "name": "stdout",
          "text": [
            "4 5 6\n"
          ]
        }
      ]
    },
    {
      "cell_type": "code",
      "source": [
        "t = foo(1, 2, \"4\", 5)"
      ],
      "metadata": {
        "colab": {
          "base_uri": "https://localhost:8080/"
        },
        "id": "XhMcfEf9nRTa",
        "outputId": "c578d0ea-7491-4b36-e5e8-ecf71de95d63"
      },
      "execution_count": 22,
      "outputs": [
        {
          "output_type": "stream",
          "name": "stdout",
          "text": [
            "(1, 2, '4', 5)\n"
          ]
        }
      ]
    },
    {
      "cell_type": "code",
      "source": [
        "def foo(**kwargs):\n",
        "    print(kwargs)"
      ],
      "metadata": {
        "id": "WtY5JvB3qBZR"
      },
      "execution_count": 26,
      "outputs": []
    },
    {
      "cell_type": "code",
      "source": [
        "foo(a=1, b=2)"
      ],
      "metadata": {
        "colab": {
          "base_uri": "https://localhost:8080/"
        },
        "id": "jGcwjNGzqHB2",
        "outputId": "985c52bf-7035-441b-8fc3-6629b258e711"
      },
      "execution_count": 27,
      "outputs": [
        {
          "output_type": "stream",
          "name": "stdout",
          "text": [
            "{'a': 1, 'b': 2}\n"
          ]
        }
      ]
    },
    {
      "cell_type": "code",
      "source": [
        "a = lambda x : 5 * x"
      ],
      "metadata": {
        "id": "kjx4XqiYrWf-"
      },
      "execution_count": 28,
      "outputs": []
    },
    {
      "cell_type": "code",
      "source": [
        "a(2)"
      ],
      "metadata": {
        "colab": {
          "base_uri": "https://localhost:8080/"
        },
        "id": "w9RpbJZCsb_B",
        "outputId": "8c8c32b2-999c-46b7-a8fa-8803608c473c"
      },
      "execution_count": 30,
      "outputs": [
        {
          "output_type": "execute_result",
          "data": {
            "text/plain": [
              "10"
            ]
          },
          "metadata": {},
          "execution_count": 30
        }
      ]
    },
    {
      "cell_type": "code",
      "source": [
        "def outer():\n",
        "    def inner():\n",
        "        print(\"inner\")\n",
        "    return inner"
      ],
      "metadata": {
        "id": "VUg88yrDscwt"
      },
      "execution_count": 31,
      "outputs": []
    },
    {
      "cell_type": "code",
      "source": [
        "f = outer()"
      ],
      "metadata": {
        "id": "G4eVFZiKtCtV"
      },
      "execution_count": 32,
      "outputs": []
    },
    {
      "cell_type": "code",
      "source": [
        "f()"
      ],
      "metadata": {
        "colab": {
          "base_uri": "https://localhost:8080/"
        },
        "id": "eeQiaOhJtD9x",
        "outputId": "df419cdb-42fa-48a3-c431-0ed4282a0f83"
      },
      "execution_count": 33,
      "outputs": [
        {
          "output_type": "stream",
          "name": "stdout",
          "text": [
            "inner\n"
          ]
        }
      ]
    },
    {
      "cell_type": "code",
      "source": [
        "class Person:\n",
        "    pass"
      ],
      "metadata": {
        "id": "jRYF5VeqtEee"
      },
      "execution_count": 34,
      "outputs": []
    },
    {
      "cell_type": "code",
      "source": [
        "p = Person()"
      ],
      "metadata": {
        "id": "XtQJhMbOyV2C"
      },
      "execution_count": 35,
      "outputs": []
    },
    {
      "cell_type": "code",
      "source": [
        "p.data = 3"
      ],
      "metadata": {
        "id": "lPtqo5fYyXzC"
      },
      "execution_count": 36,
      "outputs": []
    },
    {
      "cell_type": "code",
      "source": [
        "p.age = 5"
      ],
      "metadata": {
        "id": "VZtd5wXPyYvv"
      },
      "execution_count": 37,
      "outputs": []
    },
    {
      "cell_type": "code",
      "source": [
        "print(p.age)"
      ],
      "metadata": {
        "colab": {
          "base_uri": "https://localhost:8080/"
        },
        "id": "qVyHpAltyf3r",
        "outputId": "aea16f20-cb02-4a8f-9c0e-a99204d26666"
      },
      "execution_count": 38,
      "outputs": [
        {
          "output_type": "stream",
          "name": "stdout",
          "text": [
            "5\n"
          ]
        }
      ]
    },
    {
      "cell_type": "code",
      "source": [
        "hasattr(p, \"age\")"
      ],
      "metadata": {
        "colab": {
          "base_uri": "https://localhost:8080/"
        },
        "id": "ftOxLX_TyhQM",
        "outputId": "11a1d687-ead0-47de-82ca-f902e3307846"
      },
      "execution_count": 39,
      "outputs": [
        {
          "output_type": "execute_result",
          "data": {
            "text/plain": [
              "True"
            ]
          },
          "metadata": {},
          "execution_count": 39
        }
      ]
    },
    {
      "cell_type": "code",
      "source": [
        "hasattr(p, \"name\")"
      ],
      "metadata": {
        "colab": {
          "base_uri": "https://localhost:8080/"
        },
        "id": "aA7s5A5p0fWx",
        "outputId": "7c2abda2-e674-4e88-fef3-7d820ed6c41f"
      },
      "execution_count": 40,
      "outputs": [
        {
          "output_type": "execute_result",
          "data": {
            "text/plain": [
              "False"
            ]
          },
          "metadata": {},
          "execution_count": 40
        }
      ]
    },
    {
      "cell_type": "code",
      "source": [
        "class Dog:\n",
        "    def __init__(self, name, breed):\n",
        "        self.name = name\n",
        "        self.breed = breed\n",
        "\n",
        "    def bark(self):\n",
        "        return f\"{self.name} says Woof!\""
      ],
      "metadata": {
        "id": "3m09zoBS0hTM"
      },
      "execution_count": 42,
      "outputs": []
    },
    {
      "cell_type": "code",
      "source": [
        "my_dog = Dog(\"Buddy\", \"Golden Retriever\")"
      ],
      "metadata": {
        "id": "V3LuY7cS6SB8"
      },
      "execution_count": 43,
      "outputs": []
    },
    {
      "cell_type": "code",
      "source": [
        "my_dog.bark()"
      ],
      "metadata": {
        "colab": {
          "base_uri": "https://localhost:8080/",
          "height": 36
        },
        "id": "Zdh_9WWB6iL7",
        "outputId": "55d8c6ee-3fe5-40ee-809d-77bf2b54f266"
      },
      "execution_count": 45,
      "outputs": [
        {
          "output_type": "execute_result",
          "data": {
            "text/plain": [
              "'Buddy says Woof!'"
            ],
            "application/vnd.google.colaboratory.intrinsic+json": {
              "type": "string"
            }
          },
          "metadata": {},
          "execution_count": 45
        }
      ]
    },
    {
      "cell_type": "code",
      "source": [],
      "metadata": {
        "id": "gLE7zDgv6keV"
      },
      "execution_count": null,
      "outputs": []
    }
  ]
}